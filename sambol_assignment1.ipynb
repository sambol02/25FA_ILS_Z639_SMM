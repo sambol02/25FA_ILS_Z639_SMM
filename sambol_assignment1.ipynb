{
  "nbformat": 4,
  "nbformat_minor": 0,
  "metadata": {
    "colab": {
      "provenance": [],
      "gpuType": "T4"
    },
    "kernelspec": {
      "name": "python3",
      "display_name": "Python 3"
    },
    "language_info": {
      "name": "python"
    },
    "accelerator": "GPU",
    "widgets": {
      "application/vnd.jupyter.widget-state+json": {
        "941c5c175d484982b93634fa2cf6343c": {
          "model_module": "@jupyter-widgets/controls",
          "model_name": "HBoxModel",
          "model_module_version": "1.5.0",
          "state": {
            "_dom_classes": [],
            "_model_module": "@jupyter-widgets/controls",
            "_model_module_version": "1.5.0",
            "_model_name": "HBoxModel",
            "_view_count": null,
            "_view_module": "@jupyter-widgets/controls",
            "_view_module_version": "1.5.0",
            "_view_name": "HBoxView",
            "box_style": "",
            "children": [
              "IPY_MODEL_6523fe6eaa174468a5aa2812980013a8",
              "IPY_MODEL_d1ad97f622184a19a855e6ebb64ec367",
              "IPY_MODEL_76aa4433833044fc845ed68a8e622e3e"
            ],
            "layout": "IPY_MODEL_b502e987a637419187871d892ebf2327"
          }
        },
        "6523fe6eaa174468a5aa2812980013a8": {
          "model_module": "@jupyter-widgets/controls",
          "model_name": "HTMLModel",
          "model_module_version": "1.5.0",
          "state": {
            "_dom_classes": [],
            "_model_module": "@jupyter-widgets/controls",
            "_model_module_version": "1.5.0",
            "_model_name": "HTMLModel",
            "_view_count": null,
            "_view_module": "@jupyter-widgets/controls",
            "_view_module_version": "1.5.0",
            "_view_name": "HTMLView",
            "description": "",
            "description_tooltip": null,
            "layout": "IPY_MODEL_0b09f55b6287469a844b25ef7ad3498c",
            "placeholder": "​",
            "style": "IPY_MODEL_6b176ff5ad27472ba2c2d416132003a4",
            "value": "Map: 100%"
          }
        },
        "d1ad97f622184a19a855e6ebb64ec367": {
          "model_module": "@jupyter-widgets/controls",
          "model_name": "FloatProgressModel",
          "model_module_version": "1.5.0",
          "state": {
            "_dom_classes": [],
            "_model_module": "@jupyter-widgets/controls",
            "_model_module_version": "1.5.0",
            "_model_name": "FloatProgressModel",
            "_view_count": null,
            "_view_module": "@jupyter-widgets/controls",
            "_view_module_version": "1.5.0",
            "_view_name": "ProgressView",
            "bar_style": "success",
            "description": "",
            "description_tooltip": null,
            "layout": "IPY_MODEL_0859dd761d7c4e258ac165e5a026740c",
            "max": 3520,
            "min": 0,
            "orientation": "horizontal",
            "style": "IPY_MODEL_31d5af2656e04064b7428eb15fb87a1d",
            "value": 3520
          }
        },
        "76aa4433833044fc845ed68a8e622e3e": {
          "model_module": "@jupyter-widgets/controls",
          "model_name": "HTMLModel",
          "model_module_version": "1.5.0",
          "state": {
            "_dom_classes": [],
            "_model_module": "@jupyter-widgets/controls",
            "_model_module_version": "1.5.0",
            "_model_name": "HTMLModel",
            "_view_count": null,
            "_view_module": "@jupyter-widgets/controls",
            "_view_module_version": "1.5.0",
            "_view_name": "HTMLView",
            "description": "",
            "description_tooltip": null,
            "layout": "IPY_MODEL_7602cac0db7d4e4b92e6b8fcc738c383",
            "placeholder": "​",
            "style": "IPY_MODEL_123b2489951242c5b96b2edb4b2709c4",
            "value": " 3520/3520 [00:00&lt;00:00, 7623.07 examples/s]"
          }
        },
        "b502e987a637419187871d892ebf2327": {
          "model_module": "@jupyter-widgets/base",
          "model_name": "LayoutModel",
          "model_module_version": "1.2.0",
          "state": {
            "_model_module": "@jupyter-widgets/base",
            "_model_module_version": "1.2.0",
            "_model_name": "LayoutModel",
            "_view_count": null,
            "_view_module": "@jupyter-widgets/base",
            "_view_module_version": "1.2.0",
            "_view_name": "LayoutView",
            "align_content": null,
            "align_items": null,
            "align_self": null,
            "border": null,
            "bottom": null,
            "display": null,
            "flex": null,
            "flex_flow": null,
            "grid_area": null,
            "grid_auto_columns": null,
            "grid_auto_flow": null,
            "grid_auto_rows": null,
            "grid_column": null,
            "grid_gap": null,
            "grid_row": null,
            "grid_template_areas": null,
            "grid_template_columns": null,
            "grid_template_rows": null,
            "height": null,
            "justify_content": null,
            "justify_items": null,
            "left": null,
            "margin": null,
            "max_height": null,
            "max_width": null,
            "min_height": null,
            "min_width": null,
            "object_fit": null,
            "object_position": null,
            "order": null,
            "overflow": null,
            "overflow_x": null,
            "overflow_y": null,
            "padding": null,
            "right": null,
            "top": null,
            "visibility": null,
            "width": null
          }
        },
        "0b09f55b6287469a844b25ef7ad3498c": {
          "model_module": "@jupyter-widgets/base",
          "model_name": "LayoutModel",
          "model_module_version": "1.2.0",
          "state": {
            "_model_module": "@jupyter-widgets/base",
            "_model_module_version": "1.2.0",
            "_model_name": "LayoutModel",
            "_view_count": null,
            "_view_module": "@jupyter-widgets/base",
            "_view_module_version": "1.2.0",
            "_view_name": "LayoutView",
            "align_content": null,
            "align_items": null,
            "align_self": null,
            "border": null,
            "bottom": null,
            "display": null,
            "flex": null,
            "flex_flow": null,
            "grid_area": null,
            "grid_auto_columns": null,
            "grid_auto_flow": null,
            "grid_auto_rows": null,
            "grid_column": null,
            "grid_gap": null,
            "grid_row": null,
            "grid_template_areas": null,
            "grid_template_columns": null,
            "grid_template_rows": null,
            "height": null,
            "justify_content": null,
            "justify_items": null,
            "left": null,
            "margin": null,
            "max_height": null,
            "max_width": null,
            "min_height": null,
            "min_width": null,
            "object_fit": null,
            "object_position": null,
            "order": null,
            "overflow": null,
            "overflow_x": null,
            "overflow_y": null,
            "padding": null,
            "right": null,
            "top": null,
            "visibility": null,
            "width": null
          }
        },
        "6b176ff5ad27472ba2c2d416132003a4": {
          "model_module": "@jupyter-widgets/controls",
          "model_name": "DescriptionStyleModel",
          "model_module_version": "1.5.0",
          "state": {
            "_model_module": "@jupyter-widgets/controls",
            "_model_module_version": "1.5.0",
            "_model_name": "DescriptionStyleModel",
            "_view_count": null,
            "_view_module": "@jupyter-widgets/base",
            "_view_module_version": "1.2.0",
            "_view_name": "StyleView",
            "description_width": ""
          }
        },
        "0859dd761d7c4e258ac165e5a026740c": {
          "model_module": "@jupyter-widgets/base",
          "model_name": "LayoutModel",
          "model_module_version": "1.2.0",
          "state": {
            "_model_module": "@jupyter-widgets/base",
            "_model_module_version": "1.2.0",
            "_model_name": "LayoutModel",
            "_view_count": null,
            "_view_module": "@jupyter-widgets/base",
            "_view_module_version": "1.2.0",
            "_view_name": "LayoutView",
            "align_content": null,
            "align_items": null,
            "align_self": null,
            "border": null,
            "bottom": null,
            "display": null,
            "flex": null,
            "flex_flow": null,
            "grid_area": null,
            "grid_auto_columns": null,
            "grid_auto_flow": null,
            "grid_auto_rows": null,
            "grid_column": null,
            "grid_gap": null,
            "grid_row": null,
            "grid_template_areas": null,
            "grid_template_columns": null,
            "grid_template_rows": null,
            "height": null,
            "justify_content": null,
            "justify_items": null,
            "left": null,
            "margin": null,
            "max_height": null,
            "max_width": null,
            "min_height": null,
            "min_width": null,
            "object_fit": null,
            "object_position": null,
            "order": null,
            "overflow": null,
            "overflow_x": null,
            "overflow_y": null,
            "padding": null,
            "right": null,
            "top": null,
            "visibility": null,
            "width": null
          }
        },
        "31d5af2656e04064b7428eb15fb87a1d": {
          "model_module": "@jupyter-widgets/controls",
          "model_name": "ProgressStyleModel",
          "model_module_version": "1.5.0",
          "state": {
            "_model_module": "@jupyter-widgets/controls",
            "_model_module_version": "1.5.0",
            "_model_name": "ProgressStyleModel",
            "_view_count": null,
            "_view_module": "@jupyter-widgets/base",
            "_view_module_version": "1.2.0",
            "_view_name": "StyleView",
            "bar_color": null,
            "description_width": ""
          }
        },
        "7602cac0db7d4e4b92e6b8fcc738c383": {
          "model_module": "@jupyter-widgets/base",
          "model_name": "LayoutModel",
          "model_module_version": "1.2.0",
          "state": {
            "_model_module": "@jupyter-widgets/base",
            "_model_module_version": "1.2.0",
            "_model_name": "LayoutModel",
            "_view_count": null,
            "_view_module": "@jupyter-widgets/base",
            "_view_module_version": "1.2.0",
            "_view_name": "LayoutView",
            "align_content": null,
            "align_items": null,
            "align_self": null,
            "border": null,
            "bottom": null,
            "display": null,
            "flex": null,
            "flex_flow": null,
            "grid_area": null,
            "grid_auto_columns": null,
            "grid_auto_flow": null,
            "grid_auto_rows": null,
            "grid_column": null,
            "grid_gap": null,
            "grid_row": null,
            "grid_template_areas": null,
            "grid_template_columns": null,
            "grid_template_rows": null,
            "height": null,
            "justify_content": null,
            "justify_items": null,
            "left": null,
            "margin": null,
            "max_height": null,
            "max_width": null,
            "min_height": null,
            "min_width": null,
            "object_fit": null,
            "object_position": null,
            "order": null,
            "overflow": null,
            "overflow_x": null,
            "overflow_y": null,
            "padding": null,
            "right": null,
            "top": null,
            "visibility": null,
            "width": null
          }
        },
        "123b2489951242c5b96b2edb4b2709c4": {
          "model_module": "@jupyter-widgets/controls",
          "model_name": "DescriptionStyleModel",
          "model_module_version": "1.5.0",
          "state": {
            "_model_module": "@jupyter-widgets/controls",
            "_model_module_version": "1.5.0",
            "_model_name": "DescriptionStyleModel",
            "_view_count": null,
            "_view_module": "@jupyter-widgets/base",
            "_view_module_version": "1.2.0",
            "_view_name": "StyleView",
            "description_width": ""
          }
        },
        "71ccf4a28f144d70b81f659689ce63a1": {
          "model_module": "@jupyter-widgets/controls",
          "model_name": "HBoxModel",
          "model_module_version": "1.5.0",
          "state": {
            "_dom_classes": [],
            "_model_module": "@jupyter-widgets/controls",
            "_model_module_version": "1.5.0",
            "_model_name": "HBoxModel",
            "_view_count": null,
            "_view_module": "@jupyter-widgets/controls",
            "_view_module_version": "1.5.0",
            "_view_name": "HBoxView",
            "box_style": "",
            "children": [
              "IPY_MODEL_68ed45072722434eaeb05e6810a4c5d8",
              "IPY_MODEL_4eb37c9e823e4e61b93e26e8306ab20a",
              "IPY_MODEL_a2a1de1d1e9f45489f265dacf143c4bd"
            ],
            "layout": "IPY_MODEL_2989dbd7f90a498c8da704bba18700c6"
          }
        },
        "68ed45072722434eaeb05e6810a4c5d8": {
          "model_module": "@jupyter-widgets/controls",
          "model_name": "HTMLModel",
          "model_module_version": "1.5.0",
          "state": {
            "_dom_classes": [],
            "_model_module": "@jupyter-widgets/controls",
            "_model_module_version": "1.5.0",
            "_model_name": "HTMLModel",
            "_view_count": null,
            "_view_module": "@jupyter-widgets/controls",
            "_view_module_version": "1.5.0",
            "_view_name": "HTMLView",
            "description": "",
            "description_tooltip": null,
            "layout": "IPY_MODEL_4ea491cb14244c6f9f4bbf56c97162be",
            "placeholder": "​",
            "style": "IPY_MODEL_3ab22551d3bc4a2d9b49118b158ee38b",
            "value": "Map: 100%"
          }
        },
        "4eb37c9e823e4e61b93e26e8306ab20a": {
          "model_module": "@jupyter-widgets/controls",
          "model_name": "FloatProgressModel",
          "model_module_version": "1.5.0",
          "state": {
            "_dom_classes": [],
            "_model_module": "@jupyter-widgets/controls",
            "_model_module_version": "1.5.0",
            "_model_name": "FloatProgressModel",
            "_view_count": null,
            "_view_module": "@jupyter-widgets/controls",
            "_view_module_version": "1.5.0",
            "_view_name": "ProgressView",
            "bar_style": "success",
            "description": "",
            "description_tooltip": null,
            "layout": "IPY_MODEL_cb4515b588d54abeb56e564a3b63b4ea",
            "max": 480,
            "min": 0,
            "orientation": "horizontal",
            "style": "IPY_MODEL_684536afd4684c3f91807fd31951dfae",
            "value": 480
          }
        },
        "a2a1de1d1e9f45489f265dacf143c4bd": {
          "model_module": "@jupyter-widgets/controls",
          "model_name": "HTMLModel",
          "model_module_version": "1.5.0",
          "state": {
            "_dom_classes": [],
            "_model_module": "@jupyter-widgets/controls",
            "_model_module_version": "1.5.0",
            "_model_name": "HTMLModel",
            "_view_count": null,
            "_view_module": "@jupyter-widgets/controls",
            "_view_module_version": "1.5.0",
            "_view_name": "HTMLView",
            "description": "",
            "description_tooltip": null,
            "layout": "IPY_MODEL_066d7cf4caa34145a70b6f76f37f632e",
            "placeholder": "​",
            "style": "IPY_MODEL_f4536608cb6c46ad9ff73ae155ad5b95",
            "value": " 480/480 [00:00&lt;00:00, 4980.39 examples/s]"
          }
        },
        "2989dbd7f90a498c8da704bba18700c6": {
          "model_module": "@jupyter-widgets/base",
          "model_name": "LayoutModel",
          "model_module_version": "1.2.0",
          "state": {
            "_model_module": "@jupyter-widgets/base",
            "_model_module_version": "1.2.0",
            "_model_name": "LayoutModel",
            "_view_count": null,
            "_view_module": "@jupyter-widgets/base",
            "_view_module_version": "1.2.0",
            "_view_name": "LayoutView",
            "align_content": null,
            "align_items": null,
            "align_self": null,
            "border": null,
            "bottom": null,
            "display": null,
            "flex": null,
            "flex_flow": null,
            "grid_area": null,
            "grid_auto_columns": null,
            "grid_auto_flow": null,
            "grid_auto_rows": null,
            "grid_column": null,
            "grid_gap": null,
            "grid_row": null,
            "grid_template_areas": null,
            "grid_template_columns": null,
            "grid_template_rows": null,
            "height": null,
            "justify_content": null,
            "justify_items": null,
            "left": null,
            "margin": null,
            "max_height": null,
            "max_width": null,
            "min_height": null,
            "min_width": null,
            "object_fit": null,
            "object_position": null,
            "order": null,
            "overflow": null,
            "overflow_x": null,
            "overflow_y": null,
            "padding": null,
            "right": null,
            "top": null,
            "visibility": null,
            "width": null
          }
        },
        "4ea491cb14244c6f9f4bbf56c97162be": {
          "model_module": "@jupyter-widgets/base",
          "model_name": "LayoutModel",
          "model_module_version": "1.2.0",
          "state": {
            "_model_module": "@jupyter-widgets/base",
            "_model_module_version": "1.2.0",
            "_model_name": "LayoutModel",
            "_view_count": null,
            "_view_module": "@jupyter-widgets/base",
            "_view_module_version": "1.2.0",
            "_view_name": "LayoutView",
            "align_content": null,
            "align_items": null,
            "align_self": null,
            "border": null,
            "bottom": null,
            "display": null,
            "flex": null,
            "flex_flow": null,
            "grid_area": null,
            "grid_auto_columns": null,
            "grid_auto_flow": null,
            "grid_auto_rows": null,
            "grid_column": null,
            "grid_gap": null,
            "grid_row": null,
            "grid_template_areas": null,
            "grid_template_columns": null,
            "grid_template_rows": null,
            "height": null,
            "justify_content": null,
            "justify_items": null,
            "left": null,
            "margin": null,
            "max_height": null,
            "max_width": null,
            "min_height": null,
            "min_width": null,
            "object_fit": null,
            "object_position": null,
            "order": null,
            "overflow": null,
            "overflow_x": null,
            "overflow_y": null,
            "padding": null,
            "right": null,
            "top": null,
            "visibility": null,
            "width": null
          }
        },
        "3ab22551d3bc4a2d9b49118b158ee38b": {
          "model_module": "@jupyter-widgets/controls",
          "model_name": "DescriptionStyleModel",
          "model_module_version": "1.5.0",
          "state": {
            "_model_module": "@jupyter-widgets/controls",
            "_model_module_version": "1.5.0",
            "_model_name": "DescriptionStyleModel",
            "_view_count": null,
            "_view_module": "@jupyter-widgets/base",
            "_view_module_version": "1.2.0",
            "_view_name": "StyleView",
            "description_width": ""
          }
        },
        "cb4515b588d54abeb56e564a3b63b4ea": {
          "model_module": "@jupyter-widgets/base",
          "model_name": "LayoutModel",
          "model_module_version": "1.2.0",
          "state": {
            "_model_module": "@jupyter-widgets/base",
            "_model_module_version": "1.2.0",
            "_model_name": "LayoutModel",
            "_view_count": null,
            "_view_module": "@jupyter-widgets/base",
            "_view_module_version": "1.2.0",
            "_view_name": "LayoutView",
            "align_content": null,
            "align_items": null,
            "align_self": null,
            "border": null,
            "bottom": null,
            "display": null,
            "flex": null,
            "flex_flow": null,
            "grid_area": null,
            "grid_auto_columns": null,
            "grid_auto_flow": null,
            "grid_auto_rows": null,
            "grid_column": null,
            "grid_gap": null,
            "grid_row": null,
            "grid_template_areas": null,
            "grid_template_columns": null,
            "grid_template_rows": null,
            "height": null,
            "justify_content": null,
            "justify_items": null,
            "left": null,
            "margin": null,
            "max_height": null,
            "max_width": null,
            "min_height": null,
            "min_width": null,
            "object_fit": null,
            "object_position": null,
            "order": null,
            "overflow": null,
            "overflow_x": null,
            "overflow_y": null,
            "padding": null,
            "right": null,
            "top": null,
            "visibility": null,
            "width": null
          }
        },
        "684536afd4684c3f91807fd31951dfae": {
          "model_module": "@jupyter-widgets/controls",
          "model_name": "ProgressStyleModel",
          "model_module_version": "1.5.0",
          "state": {
            "_model_module": "@jupyter-widgets/controls",
            "_model_module_version": "1.5.0",
            "_model_name": "ProgressStyleModel",
            "_view_count": null,
            "_view_module": "@jupyter-widgets/base",
            "_view_module_version": "1.2.0",
            "_view_name": "StyleView",
            "bar_color": null,
            "description_width": ""
          }
        },
        "066d7cf4caa34145a70b6f76f37f632e": {
          "model_module": "@jupyter-widgets/base",
          "model_name": "LayoutModel",
          "model_module_version": "1.2.0",
          "state": {
            "_model_module": "@jupyter-widgets/base",
            "_model_module_version": "1.2.0",
            "_model_name": "LayoutModel",
            "_view_count": null,
            "_view_module": "@jupyter-widgets/base",
            "_view_module_version": "1.2.0",
            "_view_name": "LayoutView",
            "align_content": null,
            "align_items": null,
            "align_self": null,
            "border": null,
            "bottom": null,
            "display": null,
            "flex": null,
            "flex_flow": null,
            "grid_area": null,
            "grid_auto_columns": null,
            "grid_auto_flow": null,
            "grid_auto_rows": null,
            "grid_column": null,
            "grid_gap": null,
            "grid_row": null,
            "grid_template_areas": null,
            "grid_template_columns": null,
            "grid_template_rows": null,
            "height": null,
            "justify_content": null,
            "justify_items": null,
            "left": null,
            "margin": null,
            "max_height": null,
            "max_width": null,
            "min_height": null,
            "min_width": null,
            "object_fit": null,
            "object_position": null,
            "order": null,
            "overflow": null,
            "overflow_x": null,
            "overflow_y": null,
            "padding": null,
            "right": null,
            "top": null,
            "visibility": null,
            "width": null
          }
        },
        "f4536608cb6c46ad9ff73ae155ad5b95": {
          "model_module": "@jupyter-widgets/controls",
          "model_name": "DescriptionStyleModel",
          "model_module_version": "1.5.0",
          "state": {
            "_model_module": "@jupyter-widgets/controls",
            "_model_module_version": "1.5.0",
            "_model_name": "DescriptionStyleModel",
            "_view_count": null,
            "_view_module": "@jupyter-widgets/base",
            "_view_module_version": "1.2.0",
            "_view_name": "StyleView",
            "description_width": ""
          }
        }
      }
    }
  },
  "cells": [
    {
      "cell_type": "code",
      "source": [
        "import os, json, numpy as np, pandas as pd, math\n",
        "from pathlib import Path\n",
        "from pprint import pprint"
      ],
      "metadata": {
        "id": "jTU6SVHdUkoD"
      },
      "execution_count": null,
      "outputs": []
    },
    {
      "cell_type": "code",
      "source": [
        "RANDOM_SEED = 42\n",
        "np.random.seed(RANDOM_SEED)"
      ],
      "metadata": {
        "id": "6A4qT0vvUkla"
      },
      "execution_count": null,
      "outputs": []
    },
    {
      "cell_type": "code",
      "source": [
        "train_file = \"/content/z639_assignment1_training.json\"\n",
        "test_file  = \"/content/z639_assignment1_test.json\"\n",
        "\n",
        "train_df = pd.read_json(train_file, lines=True)\n",
        "test_df  = pd.read_json(test_file, lines=True)"
      ],
      "metadata": {
        "id": "LIyQpSllUkik"
      },
      "execution_count": null,
      "outputs": []
    },
    {
      "cell_type": "code",
      "source": [
        "print(\"train rows:\", len(train_df), \"test rows:\", len(test_df))"
      ],
      "metadata": {
        "colab": {
          "base_uri": "https://localhost:8080/"
        },
        "id": "Cc24c80VUkgE",
        "outputId": "dc0831c3-6f6c-4cfc-93fa-bb18795da75b"
      },
      "execution_count": null,
      "outputs": [
        {
          "output_type": "stream",
          "name": "stdout",
          "text": [
            "train rows: 4000 test rows: 500\n"
          ]
        }
      ]
    },
    {
      "cell_type": "code",
      "source": [
        "train_df.head()"
      ],
      "metadata": {
        "colab": {
          "base_uri": "https://localhost:8080/",
          "height": 380
        },
        "id": "F-fhlqYcr6xB",
        "outputId": "28e19599-399d-420d-f75d-466ebacce647"
      },
      "execution_count": null,
      "outputs": [
        {
          "output_type": "execute_result",
          "data": {
            "text/plain": [
              "                                                text  \\\n",
              "0  WTF, y'all never made MRE fart balloons in the...   \n",
              "1  No apologies !! McCall has balls !  Ccp is not...   \n",
              "2  What ever you need to tell yourself to sleep a...   \n",
              "3                   @exZACKly @CBSNews Fuck off Nazi   \n",
              "4  Texas is a republican sponsored killing ground...   \n",
              "\n",
              "                                      parent_comment  \\\n",
              "0                                               None   \n",
              "1                                               None   \n",
              "2  I wonder how many undercover agents will be go...   \n",
              "3  @NCmylo @CBSNews Lol.  Stop choosing to be an ...   \n",
              "4                                               None   \n",
              "\n",
              "                                       article_title  \\\n",
              "0  Triangular UFO hovers over California military...   \n",
              "1  China sentences elderly US citizen to life in ...   \n",
              "2  Jan. 6 defendant who put foot on desk in Pelos...   \n",
              "3  19-year-old Missouri man arrested in U-Haul cr...   \n",
              "4  At Least 8 Killed After Driver Plows Car Into ...   \n",
              "\n",
              "                                         article_url platform  \\\n",
              "0  https://www.dailymail.co.uk/news/article-12112...   reddit   \n",
              "1  https://www.cnn.com/2023/05/15/china/china-jai...  youtube   \n",
              "2  https://www.cbsnews.com/news/richard-barnett-j...  youtube   \n",
              "3  https://www.cbsnews.com/news/u-haul-crash-lafa...  twitter   \n",
              "4  https://www.nytimes.com/2023/05/07/us/car-pede...  youtube   \n",
              "\n",
              "                                         platform_id  \\\n",
              "0                                            jlcm021   \n",
              "1                         Ugws8gNW7eJyE9VHeM14AaABAg   \n",
              "2  UgxHlqwNcVssLHUr4yF4AaABAg.9q7kOunSlu-9q7lHH4he6S   \n",
              "3                                1661025155047637000   \n",
              "4                         UgwpAfn9RIV0cHfhp4R4AaABAg   \n",
              "\n",
              "                                     composite_toxic  \n",
              "0  [[False, 74], [True, 323], [False, 1028], [Fal...  \n",
              "1  [[False, 216], [False, 197], [False, 1039], [F...  \n",
              "2  [[True, 192], [True, 193], [True, 260], [True,...  \n",
              "3  [[True, 92], [False, 218], [True, 69], [True, ...  \n",
              "4  [[False, 56], [True, 207], [False, 218], [Fals...  "
            ],
            "text/html": [
              "\n",
              "  <div id=\"df-f2c807fa-729d-4841-a7da-846a4055294b\" class=\"colab-df-container\">\n",
              "    <div>\n",
              "<style scoped>\n",
              "    .dataframe tbody tr th:only-of-type {\n",
              "        vertical-align: middle;\n",
              "    }\n",
              "\n",
              "    .dataframe tbody tr th {\n",
              "        vertical-align: top;\n",
              "    }\n",
              "\n",
              "    .dataframe thead th {\n",
              "        text-align: right;\n",
              "    }\n",
              "</style>\n",
              "<table border=\"1\" class=\"dataframe\">\n",
              "  <thead>\n",
              "    <tr style=\"text-align: right;\">\n",
              "      <th></th>\n",
              "      <th>text</th>\n",
              "      <th>parent_comment</th>\n",
              "      <th>article_title</th>\n",
              "      <th>article_url</th>\n",
              "      <th>platform</th>\n",
              "      <th>platform_id</th>\n",
              "      <th>composite_toxic</th>\n",
              "    </tr>\n",
              "  </thead>\n",
              "  <tbody>\n",
              "    <tr>\n",
              "      <th>0</th>\n",
              "      <td>WTF, y'all never made MRE fart balloons in the...</td>\n",
              "      <td>None</td>\n",
              "      <td>Triangular UFO hovers over California military...</td>\n",
              "      <td>https://www.dailymail.co.uk/news/article-12112...</td>\n",
              "      <td>reddit</td>\n",
              "      <td>jlcm021</td>\n",
              "      <td>[[False, 74], [True, 323], [False, 1028], [Fal...</td>\n",
              "    </tr>\n",
              "    <tr>\n",
              "      <th>1</th>\n",
              "      <td>No apologies !! McCall has balls !  Ccp is not...</td>\n",
              "      <td>None</td>\n",
              "      <td>China sentences elderly US citizen to life in ...</td>\n",
              "      <td>https://www.cnn.com/2023/05/15/china/china-jai...</td>\n",
              "      <td>youtube</td>\n",
              "      <td>Ugws8gNW7eJyE9VHeM14AaABAg</td>\n",
              "      <td>[[False, 216], [False, 197], [False, 1039], [F...</td>\n",
              "    </tr>\n",
              "    <tr>\n",
              "      <th>2</th>\n",
              "      <td>What ever you need to tell yourself to sleep a...</td>\n",
              "      <td>I wonder how many undercover agents will be go...</td>\n",
              "      <td>Jan. 6 defendant who put foot on desk in Pelos...</td>\n",
              "      <td>https://www.cbsnews.com/news/richard-barnett-j...</td>\n",
              "      <td>youtube</td>\n",
              "      <td>UgxHlqwNcVssLHUr4yF4AaABAg.9q7kOunSlu-9q7lHH4he6S</td>\n",
              "      <td>[[True, 192], [True, 193], [True, 260], [True,...</td>\n",
              "    </tr>\n",
              "    <tr>\n",
              "      <th>3</th>\n",
              "      <td>@exZACKly @CBSNews Fuck off Nazi</td>\n",
              "      <td>@NCmylo @CBSNews Lol.  Stop choosing to be an ...</td>\n",
              "      <td>19-year-old Missouri man arrested in U-Haul cr...</td>\n",
              "      <td>https://www.cbsnews.com/news/u-haul-crash-lafa...</td>\n",
              "      <td>twitter</td>\n",
              "      <td>1661025155047637000</td>\n",
              "      <td>[[True, 92], [False, 218], [True, 69], [True, ...</td>\n",
              "    </tr>\n",
              "    <tr>\n",
              "      <th>4</th>\n",
              "      <td>Texas is a republican sponsored killing ground...</td>\n",
              "      <td>None</td>\n",
              "      <td>At Least 8 Killed After Driver Plows Car Into ...</td>\n",
              "      <td>https://www.nytimes.com/2023/05/07/us/car-pede...</td>\n",
              "      <td>youtube</td>\n",
              "      <td>UgwpAfn9RIV0cHfhp4R4AaABAg</td>\n",
              "      <td>[[False, 56], [True, 207], [False, 218], [Fals...</td>\n",
              "    </tr>\n",
              "  </tbody>\n",
              "</table>\n",
              "</div>\n",
              "    <div class=\"colab-df-buttons\">\n",
              "\n",
              "  <div class=\"colab-df-container\">\n",
              "    <button class=\"colab-df-convert\" onclick=\"convertToInteractive('df-f2c807fa-729d-4841-a7da-846a4055294b')\"\n",
              "            title=\"Convert this dataframe to an interactive table.\"\n",
              "            style=\"display:none;\">\n",
              "\n",
              "  <svg xmlns=\"http://www.w3.org/2000/svg\" height=\"24px\" viewBox=\"0 -960 960 960\">\n",
              "    <path d=\"M120-120v-720h720v720H120Zm60-500h600v-160H180v160Zm220 220h160v-160H400v160Zm0 220h160v-160H400v160ZM180-400h160v-160H180v160Zm440 0h160v-160H620v160ZM180-180h160v-160H180v160Zm440 0h160v-160H620v160Z\"/>\n",
              "  </svg>\n",
              "    </button>\n",
              "\n",
              "  <style>\n",
              "    .colab-df-container {\n",
              "      display:flex;\n",
              "      gap: 12px;\n",
              "    }\n",
              "\n",
              "    .colab-df-convert {\n",
              "      background-color: #E8F0FE;\n",
              "      border: none;\n",
              "      border-radius: 50%;\n",
              "      cursor: pointer;\n",
              "      display: none;\n",
              "      fill: #1967D2;\n",
              "      height: 32px;\n",
              "      padding: 0 0 0 0;\n",
              "      width: 32px;\n",
              "    }\n",
              "\n",
              "    .colab-df-convert:hover {\n",
              "      background-color: #E2EBFA;\n",
              "      box-shadow: 0px 1px 2px rgba(60, 64, 67, 0.3), 0px 1px 3px 1px rgba(60, 64, 67, 0.15);\n",
              "      fill: #174EA6;\n",
              "    }\n",
              "\n",
              "    .colab-df-buttons div {\n",
              "      margin-bottom: 4px;\n",
              "    }\n",
              "\n",
              "    [theme=dark] .colab-df-convert {\n",
              "      background-color: #3B4455;\n",
              "      fill: #D2E3FC;\n",
              "    }\n",
              "\n",
              "    [theme=dark] .colab-df-convert:hover {\n",
              "      background-color: #434B5C;\n",
              "      box-shadow: 0px 1px 3px 1px rgba(0, 0, 0, 0.15);\n",
              "      filter: drop-shadow(0px 1px 2px rgba(0, 0, 0, 0.3));\n",
              "      fill: #FFFFFF;\n",
              "    }\n",
              "  </style>\n",
              "\n",
              "    <script>\n",
              "      const buttonEl =\n",
              "        document.querySelector('#df-f2c807fa-729d-4841-a7da-846a4055294b button.colab-df-convert');\n",
              "      buttonEl.style.display =\n",
              "        google.colab.kernel.accessAllowed ? 'block' : 'none';\n",
              "\n",
              "      async function convertToInteractive(key) {\n",
              "        const element = document.querySelector('#df-f2c807fa-729d-4841-a7da-846a4055294b');\n",
              "        const dataTable =\n",
              "          await google.colab.kernel.invokeFunction('convertToInteractive',\n",
              "                                                    [key], {});\n",
              "        if (!dataTable) return;\n",
              "\n",
              "        const docLinkHtml = 'Like what you see? Visit the ' +\n",
              "          '<a target=\"_blank\" href=https://colab.research.google.com/notebooks/data_table.ipynb>data table notebook</a>'\n",
              "          + ' to learn more about interactive tables.';\n",
              "        element.innerHTML = '';\n",
              "        dataTable['output_type'] = 'display_data';\n",
              "        await google.colab.output.renderOutput(dataTable, element);\n",
              "        const docLink = document.createElement('div');\n",
              "        docLink.innerHTML = docLinkHtml;\n",
              "        element.appendChild(docLink);\n",
              "      }\n",
              "    </script>\n",
              "  </div>\n",
              "\n",
              "\n",
              "    <div id=\"df-f38831b5-5ac6-4e27-b440-376b7890315e\">\n",
              "      <button class=\"colab-df-quickchart\" onclick=\"quickchart('df-f38831b5-5ac6-4e27-b440-376b7890315e')\"\n",
              "                title=\"Suggest charts\"\n",
              "                style=\"display:none;\">\n",
              "\n",
              "<svg xmlns=\"http://www.w3.org/2000/svg\" height=\"24px\"viewBox=\"0 0 24 24\"\n",
              "     width=\"24px\">\n",
              "    <g>\n",
              "        <path d=\"M19 3H5c-1.1 0-2 .9-2 2v14c0 1.1.9 2 2 2h14c1.1 0 2-.9 2-2V5c0-1.1-.9-2-2-2zM9 17H7v-7h2v7zm4 0h-2V7h2v10zm4 0h-2v-4h2v4z\"/>\n",
              "    </g>\n",
              "</svg>\n",
              "      </button>\n",
              "\n",
              "<style>\n",
              "  .colab-df-quickchart {\n",
              "      --bg-color: #E8F0FE;\n",
              "      --fill-color: #1967D2;\n",
              "      --hover-bg-color: #E2EBFA;\n",
              "      --hover-fill-color: #174EA6;\n",
              "      --disabled-fill-color: #AAA;\n",
              "      --disabled-bg-color: #DDD;\n",
              "  }\n",
              "\n",
              "  [theme=dark] .colab-df-quickchart {\n",
              "      --bg-color: #3B4455;\n",
              "      --fill-color: #D2E3FC;\n",
              "      --hover-bg-color: #434B5C;\n",
              "      --hover-fill-color: #FFFFFF;\n",
              "      --disabled-bg-color: #3B4455;\n",
              "      --disabled-fill-color: #666;\n",
              "  }\n",
              "\n",
              "  .colab-df-quickchart {\n",
              "    background-color: var(--bg-color);\n",
              "    border: none;\n",
              "    border-radius: 50%;\n",
              "    cursor: pointer;\n",
              "    display: none;\n",
              "    fill: var(--fill-color);\n",
              "    height: 32px;\n",
              "    padding: 0;\n",
              "    width: 32px;\n",
              "  }\n",
              "\n",
              "  .colab-df-quickchart:hover {\n",
              "    background-color: var(--hover-bg-color);\n",
              "    box-shadow: 0 1px 2px rgba(60, 64, 67, 0.3), 0 1px 3px 1px rgba(60, 64, 67, 0.15);\n",
              "    fill: var(--button-hover-fill-color);\n",
              "  }\n",
              "\n",
              "  .colab-df-quickchart-complete:disabled,\n",
              "  .colab-df-quickchart-complete:disabled:hover {\n",
              "    background-color: var(--disabled-bg-color);\n",
              "    fill: var(--disabled-fill-color);\n",
              "    box-shadow: none;\n",
              "  }\n",
              "\n",
              "  .colab-df-spinner {\n",
              "    border: 2px solid var(--fill-color);\n",
              "    border-color: transparent;\n",
              "    border-bottom-color: var(--fill-color);\n",
              "    animation:\n",
              "      spin 1s steps(1) infinite;\n",
              "  }\n",
              "\n",
              "  @keyframes spin {\n",
              "    0% {\n",
              "      border-color: transparent;\n",
              "      border-bottom-color: var(--fill-color);\n",
              "      border-left-color: var(--fill-color);\n",
              "    }\n",
              "    20% {\n",
              "      border-color: transparent;\n",
              "      border-left-color: var(--fill-color);\n",
              "      border-top-color: var(--fill-color);\n",
              "    }\n",
              "    30% {\n",
              "      border-color: transparent;\n",
              "      border-left-color: var(--fill-color);\n",
              "      border-top-color: var(--fill-color);\n",
              "      border-right-color: var(--fill-color);\n",
              "    }\n",
              "    40% {\n",
              "      border-color: transparent;\n",
              "      border-right-color: var(--fill-color);\n",
              "      border-top-color: var(--fill-color);\n",
              "    }\n",
              "    60% {\n",
              "      border-color: transparent;\n",
              "      border-right-color: var(--fill-color);\n",
              "    }\n",
              "    80% {\n",
              "      border-color: transparent;\n",
              "      border-right-color: var(--fill-color);\n",
              "      border-bottom-color: var(--fill-color);\n",
              "    }\n",
              "    90% {\n",
              "      border-color: transparent;\n",
              "      border-bottom-color: var(--fill-color);\n",
              "    }\n",
              "  }\n",
              "</style>\n",
              "\n",
              "      <script>\n",
              "        async function quickchart(key) {\n",
              "          const quickchartButtonEl =\n",
              "            document.querySelector('#' + key + ' button');\n",
              "          quickchartButtonEl.disabled = true;  // To prevent multiple clicks.\n",
              "          quickchartButtonEl.classList.add('colab-df-spinner');\n",
              "          try {\n",
              "            const charts = await google.colab.kernel.invokeFunction(\n",
              "                'suggestCharts', [key], {});\n",
              "          } catch (error) {\n",
              "            console.error('Error during call to suggestCharts:', error);\n",
              "          }\n",
              "          quickchartButtonEl.classList.remove('colab-df-spinner');\n",
              "          quickchartButtonEl.classList.add('colab-df-quickchart-complete');\n",
              "        }\n",
              "        (() => {\n",
              "          let quickchartButtonEl =\n",
              "            document.querySelector('#df-f38831b5-5ac6-4e27-b440-376b7890315e button');\n",
              "          quickchartButtonEl.style.display =\n",
              "            google.colab.kernel.accessAllowed ? 'block' : 'none';\n",
              "        })();\n",
              "      </script>\n",
              "    </div>\n",
              "\n",
              "    </div>\n",
              "  </div>\n"
            ],
            "application/vnd.google.colaboratory.intrinsic+json": {
              "type": "dataframe",
              "variable_name": "train_df",
              "summary": "{\n  \"name\": \"train_df\",\n  \"rows\": 4000,\n  \"fields\": [\n    {\n      \"column\": \"text\",\n      \"properties\": {\n        \"dtype\": \"string\",\n        \"num_unique_values\": 3997,\n        \"samples\": [\n          \"Man I kept talking about how I\\u2019m not a fan of space x because of the environmental impact concerns. Somebody gave me some info and some sources to see for myself right before this launch, like a couple days. I started thinking maybe I had it all wrong. Then this fucker blows up and I got angry at myself.\",\n          \"OOtL, who's the shitbag?\",\n          \"When it came to work being 57 now, I worked 10, 11, 12. Working pulling weeds on farms gardens making money there is nothing wrong for 10 11 12 year old  working driving a tractor at 11 hay bailing . I wasn't forced to work. I wanted to work and I finish college got my degree in horticulture green house mgnt. Just saying. It's up to the individual if they have a good head on their shoulders go for it.\"\n        ],\n        \"semantic_type\": \"\",\n        \"description\": \"\"\n      }\n    },\n    {\n      \"column\": \"parent_comment\",\n      \"properties\": {\n        \"dtype\": \"category\",\n        \"num_unique_values\": 1368,\n        \"samples\": [\n          \">Well rather recently there was that incident where a motorbiker was killed. Same sort of shit.\\n\\nAccidentally killing somebody with a car and purposefully killing someone with a lethal weapon is not the same sort of shit \\ud83d\\ude02\",\n          \"Sure, he is soft on crime, giving low bails to offenders. Plus a lot of charges are reduced, or pled down to non jail time offenses. \\n\\n\\nTake this case, https://fox17.com/news/local/nashville-tennessee-crime-alert-middle-tn-metro-police-suspect-arrested-for-drag-racing-on-murfreesboro-pike-davidson-county-local-news#\\n\\n\\n\\nThe guy was drag racing at 100mph on a city street, ran from police, arrested and released the same day. Only had to pay $800 to get out of jail. \\n\\n\\nI get that some people around here are low bail / no cash bail proponents, I swing that way in some cases too. But when there is an officers dashcam footage and you have someone dead to rights, I think that needs to be taken into consideration. The streets in this city are getting dangerous.\",\n          \"I hate russia, but this terrifies me. I dont think its easy to conquer a nuclear state.\\n\\n(Wtf is good with you people down voting me??? Im for the dissolution of russia, doesnt mean the idea doesnt fucking scare me))\"\n        ],\n        \"semantic_type\": \"\",\n        \"description\": \"\"\n      }\n    },\n    {\n      \"column\": \"article_title\",\n      \"properties\": {\n        \"dtype\": \"category\",\n        \"num_unique_values\": 1707,\n        \"samples\": [\n          \"Supreme Court overturns public-corruption conviction of Cuomo aide\",\n          \"California law on the humane raising of pigs survives Supreme Court challenge\",\n          \"Calls grow for Pakistan\\u2019s zoos to close after death of 17-year-old elephant\"\n        ],\n        \"semantic_type\": \"\",\n        \"description\": \"\"\n      }\n    },\n    {\n      \"column\": \"article_url\",\n      \"properties\": {\n        \"dtype\": \"category\",\n        \"num_unique_values\": 1714,\n        \"samples\": [\n          \"https://www.cnbc.com/2023/05/24/microsoft-warns-that-china-hackers-attacked-us-infrastructure.html\",\n          \"https://www.cnn.com/2023/05/24/politics/meadows-dc-political-operation-legal-woes-trump/index.html\",\n          \"https://apnews.com/article/west-point-graduation-vice-president-harris-d56cbc2ef0353d6e7c0d2fc8c3b2a99b\"\n        ],\n        \"semantic_type\": \"\",\n        \"description\": \"\"\n      }\n    },\n    {\n      \"column\": \"platform\",\n      \"properties\": {\n        \"dtype\": \"category\",\n        \"num_unique_values\": 3,\n        \"samples\": [\n          \"reddit\",\n          \"youtube\",\n          \"twitter\"\n        ],\n        \"semantic_type\": \"\",\n        \"description\": \"\"\n      }\n    },\n    {\n      \"column\": \"platform_id\",\n      \"properties\": {\n        \"dtype\": \"string\",\n        \"num_unique_values\": 4000,\n        \"samples\": [\n          1656334534143508485,\n          \"Ugx4_eFUXNxWAAE581p4AaABAg.9pWHKQGWmph9pWHi2TNaiZ\",\n          \"jka4t0u\"\n        ],\n        \"semantic_type\": \"\",\n        \"description\": \"\"\n      }\n    },\n    {\n      \"column\": \"composite_toxic\",\n      \"properties\": {\n        \"dtype\": \"object\",\n        \"semantic_type\": \"\",\n        \"description\": \"\"\n      }\n    }\n  ]\n}"
            }
          },
          "metadata": {},
          "execution_count": 7
        }
      ]
    },
    {
      "cell_type": "code",
      "source": [
        "test_df.head()"
      ],
      "metadata": {
        "colab": {
          "base_uri": "https://localhost:8080/",
          "height": 293
        },
        "id": "H9xNsvEEwM-g",
        "outputId": "7df82548-030e-4ae5-9046-76fea4d8437a"
      },
      "execution_count": null,
      "outputs": [
        {
          "output_type": "execute_result",
          "data": {
            "text/plain": [
              "                                                text  \\\n",
              "0                                Ukrainian Bullshit.   \n",
              "1  @LibDems No one likes you.\\nYou denied democra...   \n",
              "2  @EPurpera @BBCNews POS terrorist dictator Putr...   \n",
              "3  @howardfineman @darkblue714 Bullshit. CNN set ...   \n",
              "4  The war will be won by who \"wins\" the race bet...   \n",
              "\n",
              "                                      parent_comment  \\\n",
              "0                               Russian   Propaganda   \n",
              "1                                               None   \n",
              "2              @BBCNews They should make peace talk.   \n",
              "3                                               None   \n",
              "4  What is the pope gonna do? Pray and throw a co...   \n",
              "\n",
              "                                       article_title  \\\n",
              "0  Kremlin drone: Zelensky denies Ukraine attacke...   \n",
              "1  UK economy shrank 0.3% in March, ONS figures show   \n",
              "2  Ukraine war: Kyiv hit by new massive Russian d...   \n",
              "3  Opinion | Why CNN's Trump town hall was always...   \n",
              "4  Zelenskyy to meet with Pope Francis at Vatican...   \n",
              "\n",
              "                                         article_url platform  \\\n",
              "0     https://www.bbc.com/news/world-europe-65471904  youtube   \n",
              "1  https://news.sky.com/story/uk-economy-shrank-0...  twitter   \n",
              "2            https://www.bbc.com/news/world-65736730  twitter   \n",
              "3  https://www.msnbc.com/opinion/msnbc-opinion/cn...  twitter   \n",
              "4  https://apnews.com/article/zelenskyy-italy-vis...   reddit   \n",
              "\n",
              "                                         platform_id  \n",
              "0  UgxjV6HRpnD6FUmw8aV4AaABAg.9pH-CgX5yEH9pH7BMIfAz5  \n",
              "1                                1657052099564150784  \n",
              "2                                1662672469205958656  \n",
              "3                                1656508255454019587  \n",
              "4                                            jk1pm1m  "
            ],
            "text/html": [
              "\n",
              "  <div id=\"df-0ac8e844-cdbe-4b87-a985-bdb815d83af8\" class=\"colab-df-container\">\n",
              "    <div>\n",
              "<style scoped>\n",
              "    .dataframe tbody tr th:only-of-type {\n",
              "        vertical-align: middle;\n",
              "    }\n",
              "\n",
              "    .dataframe tbody tr th {\n",
              "        vertical-align: top;\n",
              "    }\n",
              "\n",
              "    .dataframe thead th {\n",
              "        text-align: right;\n",
              "    }\n",
              "</style>\n",
              "<table border=\"1\" class=\"dataframe\">\n",
              "  <thead>\n",
              "    <tr style=\"text-align: right;\">\n",
              "      <th></th>\n",
              "      <th>text</th>\n",
              "      <th>parent_comment</th>\n",
              "      <th>article_title</th>\n",
              "      <th>article_url</th>\n",
              "      <th>platform</th>\n",
              "      <th>platform_id</th>\n",
              "    </tr>\n",
              "  </thead>\n",
              "  <tbody>\n",
              "    <tr>\n",
              "      <th>0</th>\n",
              "      <td>Ukrainian Bullshit.</td>\n",
              "      <td>Russian   Propaganda</td>\n",
              "      <td>Kremlin drone: Zelensky denies Ukraine attacke...</td>\n",
              "      <td>https://www.bbc.com/news/world-europe-65471904</td>\n",
              "      <td>youtube</td>\n",
              "      <td>UgxjV6HRpnD6FUmw8aV4AaABAg.9pH-CgX5yEH9pH7BMIfAz5</td>\n",
              "    </tr>\n",
              "    <tr>\n",
              "      <th>1</th>\n",
              "      <td>@LibDems No one likes you.\\nYou denied democra...</td>\n",
              "      <td>None</td>\n",
              "      <td>UK economy shrank 0.3% in March, ONS figures show</td>\n",
              "      <td>https://news.sky.com/story/uk-economy-shrank-0...</td>\n",
              "      <td>twitter</td>\n",
              "      <td>1657052099564150784</td>\n",
              "    </tr>\n",
              "    <tr>\n",
              "      <th>2</th>\n",
              "      <td>@EPurpera @BBCNews POS terrorist dictator Putr...</td>\n",
              "      <td>@BBCNews They should make peace talk.</td>\n",
              "      <td>Ukraine war: Kyiv hit by new massive Russian d...</td>\n",
              "      <td>https://www.bbc.com/news/world-65736730</td>\n",
              "      <td>twitter</td>\n",
              "      <td>1662672469205958656</td>\n",
              "    </tr>\n",
              "    <tr>\n",
              "      <th>3</th>\n",
              "      <td>@howardfineman @darkblue714 Bullshit. CNN set ...</td>\n",
              "      <td>None</td>\n",
              "      <td>Opinion | Why CNN's Trump town hall was always...</td>\n",
              "      <td>https://www.msnbc.com/opinion/msnbc-opinion/cn...</td>\n",
              "      <td>twitter</td>\n",
              "      <td>1656508255454019587</td>\n",
              "    </tr>\n",
              "    <tr>\n",
              "      <th>4</th>\n",
              "      <td>The war will be won by who \"wins\" the race bet...</td>\n",
              "      <td>What is the pope gonna do? Pray and throw a co...</td>\n",
              "      <td>Zelenskyy to meet with Pope Francis at Vatican...</td>\n",
              "      <td>https://apnews.com/article/zelenskyy-italy-vis...</td>\n",
              "      <td>reddit</td>\n",
              "      <td>jk1pm1m</td>\n",
              "    </tr>\n",
              "  </tbody>\n",
              "</table>\n",
              "</div>\n",
              "    <div class=\"colab-df-buttons\">\n",
              "\n",
              "  <div class=\"colab-df-container\">\n",
              "    <button class=\"colab-df-convert\" onclick=\"convertToInteractive('df-0ac8e844-cdbe-4b87-a985-bdb815d83af8')\"\n",
              "            title=\"Convert this dataframe to an interactive table.\"\n",
              "            style=\"display:none;\">\n",
              "\n",
              "  <svg xmlns=\"http://www.w3.org/2000/svg\" height=\"24px\" viewBox=\"0 -960 960 960\">\n",
              "    <path d=\"M120-120v-720h720v720H120Zm60-500h600v-160H180v160Zm220 220h160v-160H400v160Zm0 220h160v-160H400v160ZM180-400h160v-160H180v160Zm440 0h160v-160H620v160ZM180-180h160v-160H180v160Zm440 0h160v-160H620v160Z\"/>\n",
              "  </svg>\n",
              "    </button>\n",
              "\n",
              "  <style>\n",
              "    .colab-df-container {\n",
              "      display:flex;\n",
              "      gap: 12px;\n",
              "    }\n",
              "\n",
              "    .colab-df-convert {\n",
              "      background-color: #E8F0FE;\n",
              "      border: none;\n",
              "      border-radius: 50%;\n",
              "      cursor: pointer;\n",
              "      display: none;\n",
              "      fill: #1967D2;\n",
              "      height: 32px;\n",
              "      padding: 0 0 0 0;\n",
              "      width: 32px;\n",
              "    }\n",
              "\n",
              "    .colab-df-convert:hover {\n",
              "      background-color: #E2EBFA;\n",
              "      box-shadow: 0px 1px 2px rgba(60, 64, 67, 0.3), 0px 1px 3px 1px rgba(60, 64, 67, 0.15);\n",
              "      fill: #174EA6;\n",
              "    }\n",
              "\n",
              "    .colab-df-buttons div {\n",
              "      margin-bottom: 4px;\n",
              "    }\n",
              "\n",
              "    [theme=dark] .colab-df-convert {\n",
              "      background-color: #3B4455;\n",
              "      fill: #D2E3FC;\n",
              "    }\n",
              "\n",
              "    [theme=dark] .colab-df-convert:hover {\n",
              "      background-color: #434B5C;\n",
              "      box-shadow: 0px 1px 3px 1px rgba(0, 0, 0, 0.15);\n",
              "      filter: drop-shadow(0px 1px 2px rgba(0, 0, 0, 0.3));\n",
              "      fill: #FFFFFF;\n",
              "    }\n",
              "  </style>\n",
              "\n",
              "    <script>\n",
              "      const buttonEl =\n",
              "        document.querySelector('#df-0ac8e844-cdbe-4b87-a985-bdb815d83af8 button.colab-df-convert');\n",
              "      buttonEl.style.display =\n",
              "        google.colab.kernel.accessAllowed ? 'block' : 'none';\n",
              "\n",
              "      async function convertToInteractive(key) {\n",
              "        const element = document.querySelector('#df-0ac8e844-cdbe-4b87-a985-bdb815d83af8');\n",
              "        const dataTable =\n",
              "          await google.colab.kernel.invokeFunction('convertToInteractive',\n",
              "                                                    [key], {});\n",
              "        if (!dataTable) return;\n",
              "\n",
              "        const docLinkHtml = 'Like what you see? Visit the ' +\n",
              "          '<a target=\"_blank\" href=https://colab.research.google.com/notebooks/data_table.ipynb>data table notebook</a>'\n",
              "          + ' to learn more about interactive tables.';\n",
              "        element.innerHTML = '';\n",
              "        dataTable['output_type'] = 'display_data';\n",
              "        await google.colab.output.renderOutput(dataTable, element);\n",
              "        const docLink = document.createElement('div');\n",
              "        docLink.innerHTML = docLinkHtml;\n",
              "        element.appendChild(docLink);\n",
              "      }\n",
              "    </script>\n",
              "  </div>\n",
              "\n",
              "\n",
              "    <div id=\"df-a884b2d2-818d-45c6-b485-940acc9b868d\">\n",
              "      <button class=\"colab-df-quickchart\" onclick=\"quickchart('df-a884b2d2-818d-45c6-b485-940acc9b868d')\"\n",
              "                title=\"Suggest charts\"\n",
              "                style=\"display:none;\">\n",
              "\n",
              "<svg xmlns=\"http://www.w3.org/2000/svg\" height=\"24px\"viewBox=\"0 0 24 24\"\n",
              "     width=\"24px\">\n",
              "    <g>\n",
              "        <path d=\"M19 3H5c-1.1 0-2 .9-2 2v14c0 1.1.9 2 2 2h14c1.1 0 2-.9 2-2V5c0-1.1-.9-2-2-2zM9 17H7v-7h2v7zm4 0h-2V7h2v10zm4 0h-2v-4h2v4z\"/>\n",
              "    </g>\n",
              "</svg>\n",
              "      </button>\n",
              "\n",
              "<style>\n",
              "  .colab-df-quickchart {\n",
              "      --bg-color: #E8F0FE;\n",
              "      --fill-color: #1967D2;\n",
              "      --hover-bg-color: #E2EBFA;\n",
              "      --hover-fill-color: #174EA6;\n",
              "      --disabled-fill-color: #AAA;\n",
              "      --disabled-bg-color: #DDD;\n",
              "  }\n",
              "\n",
              "  [theme=dark] .colab-df-quickchart {\n",
              "      --bg-color: #3B4455;\n",
              "      --fill-color: #D2E3FC;\n",
              "      --hover-bg-color: #434B5C;\n",
              "      --hover-fill-color: #FFFFFF;\n",
              "      --disabled-bg-color: #3B4455;\n",
              "      --disabled-fill-color: #666;\n",
              "  }\n",
              "\n",
              "  .colab-df-quickchart {\n",
              "    background-color: var(--bg-color);\n",
              "    border: none;\n",
              "    border-radius: 50%;\n",
              "    cursor: pointer;\n",
              "    display: none;\n",
              "    fill: var(--fill-color);\n",
              "    height: 32px;\n",
              "    padding: 0;\n",
              "    width: 32px;\n",
              "  }\n",
              "\n",
              "  .colab-df-quickchart:hover {\n",
              "    background-color: var(--hover-bg-color);\n",
              "    box-shadow: 0 1px 2px rgba(60, 64, 67, 0.3), 0 1px 3px 1px rgba(60, 64, 67, 0.15);\n",
              "    fill: var(--button-hover-fill-color);\n",
              "  }\n",
              "\n",
              "  .colab-df-quickchart-complete:disabled,\n",
              "  .colab-df-quickchart-complete:disabled:hover {\n",
              "    background-color: var(--disabled-bg-color);\n",
              "    fill: var(--disabled-fill-color);\n",
              "    box-shadow: none;\n",
              "  }\n",
              "\n",
              "  .colab-df-spinner {\n",
              "    border: 2px solid var(--fill-color);\n",
              "    border-color: transparent;\n",
              "    border-bottom-color: var(--fill-color);\n",
              "    animation:\n",
              "      spin 1s steps(1) infinite;\n",
              "  }\n",
              "\n",
              "  @keyframes spin {\n",
              "    0% {\n",
              "      border-color: transparent;\n",
              "      border-bottom-color: var(--fill-color);\n",
              "      border-left-color: var(--fill-color);\n",
              "    }\n",
              "    20% {\n",
              "      border-color: transparent;\n",
              "      border-left-color: var(--fill-color);\n",
              "      border-top-color: var(--fill-color);\n",
              "    }\n",
              "    30% {\n",
              "      border-color: transparent;\n",
              "      border-left-color: var(--fill-color);\n",
              "      border-top-color: var(--fill-color);\n",
              "      border-right-color: var(--fill-color);\n",
              "    }\n",
              "    40% {\n",
              "      border-color: transparent;\n",
              "      border-right-color: var(--fill-color);\n",
              "      border-top-color: var(--fill-color);\n",
              "    }\n",
              "    60% {\n",
              "      border-color: transparent;\n",
              "      border-right-color: var(--fill-color);\n",
              "    }\n",
              "    80% {\n",
              "      border-color: transparent;\n",
              "      border-right-color: var(--fill-color);\n",
              "      border-bottom-color: var(--fill-color);\n",
              "    }\n",
              "    90% {\n",
              "      border-color: transparent;\n",
              "      border-bottom-color: var(--fill-color);\n",
              "    }\n",
              "  }\n",
              "</style>\n",
              "\n",
              "      <script>\n",
              "        async function quickchart(key) {\n",
              "          const quickchartButtonEl =\n",
              "            document.querySelector('#' + key + ' button');\n",
              "          quickchartButtonEl.disabled = true;  // To prevent multiple clicks.\n",
              "          quickchartButtonEl.classList.add('colab-df-spinner');\n",
              "          try {\n",
              "            const charts = await google.colab.kernel.invokeFunction(\n",
              "                'suggestCharts', [key], {});\n",
              "          } catch (error) {\n",
              "            console.error('Error during call to suggestCharts:', error);\n",
              "          }\n",
              "          quickchartButtonEl.classList.remove('colab-df-spinner');\n",
              "          quickchartButtonEl.classList.add('colab-df-quickchart-complete');\n",
              "        }\n",
              "        (() => {\n",
              "          let quickchartButtonEl =\n",
              "            document.querySelector('#df-a884b2d2-818d-45c6-b485-940acc9b868d button');\n",
              "          quickchartButtonEl.style.display =\n",
              "            google.colab.kernel.accessAllowed ? 'block' : 'none';\n",
              "        })();\n",
              "      </script>\n",
              "    </div>\n",
              "\n",
              "    </div>\n",
              "  </div>\n"
            ],
            "application/vnd.google.colaboratory.intrinsic+json": {
              "type": "dataframe",
              "variable_name": "test_df",
              "summary": "{\n  \"name\": \"test_df\",\n  \"rows\": 500,\n  \"fields\": [\n    {\n      \"column\": \"text\",\n      \"properties\": {\n        \"dtype\": \"string\",\n        \"num_unique_values\": 500,\n        \"samples\": [\n          \"@MarshaBlackburn Again Gun Legislation Do it My gif you waste time with PR \\ud83d\\udc02\\ud83d\\udca9\",\n          \"@JdGenovese @cnnbrk Lol!!! Supporting white nationalist violence here!!\",\n          \"\\ud83d\\ude02We won\\u2019t enforce, or save you when these guns are concerned.\"\n        ],\n        \"semantic_type\": \"\",\n        \"description\": \"\"\n      }\n    },\n    {\n      \"column\": \"parent_comment\",\n      \"properties\": {\n        \"dtype\": \"category\",\n        \"num_unique_values\": 166,\n        \"samples\": [\n          \"Yeah, Glenn Beck has been killing it\",\n          \"@MikeRazz1988 @IngSrCoatl @AP It\\u2019s been over a year, no one is helping. Ukraine will never win without US military intervention. Not gonna happen. Quit dreaming and get real.\",\n          \"Ban assault weapons!\"\n        ],\n        \"semantic_type\": \"\",\n        \"description\": \"\"\n      }\n    },\n    {\n      \"column\": \"article_title\",\n      \"properties\": {\n        \"dtype\": \"string\",\n        \"num_unique_values\": 453,\n        \"samples\": [\n          \"Ukraine war latest: Russia says fighting ongoing within its borders\",\n          \"China opposes G20 meeting in Indian-rule Kashmir and will skip it\",\n          \"Oklahoma sex offender fatally shot his wife, her 3 kids and 2 teen girls before killing himself, police say | CNN\"\n        ],\n        \"semantic_type\": \"\",\n        \"description\": \"\"\n      }\n    },\n    {\n      \"column\": \"article_url\",\n      \"properties\": {\n        \"dtype\": \"string\",\n        \"num_unique_values\": 453,\n        \"samples\": [\n          \"https://kyivindependent.com/ukraine-war-latest-russia-accuses-ukraine-of-sabotage-as-incursion-takes-place-in-belgorod-oblast/\",\n          \"https://www.reuters.com/world/asia-pacific/china-opposes-g20-meeting-indian-rule-kashmir-will-skip-it-2023-05-19/\",\n          \"https://www.cnn.com/2023/05/03/us/oklahoma-four-victims-identified-sex-offender-home/index.html\"\n        ],\n        \"semantic_type\": \"\",\n        \"description\": \"\"\n      }\n    },\n    {\n      \"column\": \"platform\",\n      \"properties\": {\n        \"dtype\": \"category\",\n        \"num_unique_values\": 3,\n        \"samples\": [\n          \"youtube\",\n          \"twitter\",\n          \"reddit\"\n        ],\n        \"semantic_type\": \"\",\n        \"description\": \"\"\n      }\n    },\n    {\n      \"column\": \"platform_id\",\n      \"properties\": {\n        \"dtype\": \"string\",\n        \"num_unique_values\": 500,\n        \"samples\": [\n          1661822018172461058,\n          1658180323933315100,\n          \"UgyFjPhqRLZo57QA5y54AaABAg\"\n        ],\n        \"semantic_type\": \"\",\n        \"description\": \"\"\n      }\n    }\n  ]\n}"
            }
          },
          "metadata": {},
          "execution_count": 27
        }
      ]
    },
    {
      "cell_type": "code",
      "source": [
        "train_df[\"composite_toxic\"][1]"
      ],
      "metadata": {
        "colab": {
          "base_uri": "https://localhost:8080/"
        },
        "id": "qUAovHW8tIPc",
        "outputId": "1bb238d5-addb-4f07-c517-84ef6cc2456d"
      },
      "execution_count": null,
      "outputs": [
        {
          "output_type": "execute_result",
          "data": {
            "text/plain": [
              "[[False, 216], [False, 197], [False, 1039], [False, 206], [True, 135]]"
            ]
          },
          "metadata": {},
          "execution_count": 14
        }
      ]
    },
    {
      "cell_type": "code",
      "source": [
        "def majority_label(composite):\n",
        "    if not composite or not isinstance(composite, (list, tuple)):\n",
        "        return np.nan\n",
        "\n",
        "    labels = []\n",
        "    for ann in composite:\n",
        "        try:\n",
        "            lbl = ann[0]\n",
        "            if isinstance(lbl, str):\n",
        "                lbl = lbl.strip().lower() in (\"true\", \"1\", \"t\", \"yes\")\n",
        "            elif isinstance(lbl, (int, np.integer)):\n",
        "                lbl = bool(lbl)\n",
        "            elif not isinstance(lbl, bool):\n",
        "                continue\n",
        "            labels.append(1 if lbl else 0)\n",
        "        except Exception:\n",
        "            continue\n",
        "\n",
        "    if len(labels) == 0:\n",
        "        return np.nan\n",
        "\n",
        "    return 1 if sum(labels) >= 3 else 0"
      ],
      "metadata": {
        "id": "R1qsiej0sPqX"
      },
      "execution_count": null,
      "outputs": []
    },
    {
      "cell_type": "code",
      "source": [
        "train_df['label'] = train_df['composite_toxic'].apply(majority_label)"
      ],
      "metadata": {
        "id": "e5mZziruvkpf"
      },
      "execution_count": null,
      "outputs": []
    },
    {
      "cell_type": "code",
      "source": [
        "print(\"Dropped rows with no label:\", train_df['label'].isna().sum())\n",
        "train_df = train_df.dropna(subset=['label']).reset_index(drop=True)"
      ],
      "metadata": {
        "colab": {
          "base_uri": "https://localhost:8080/"
        },
        "id": "GBkW2JkwvpPe",
        "outputId": "c0fb0aa5-4f8a-4101-fec1-5cfdb0385fa7"
      },
      "execution_count": null,
      "outputs": [
        {
          "output_type": "stream",
          "name": "stdout",
          "text": [
            "Dropped rows with no label: 0\n"
          ]
        }
      ]
    },
    {
      "cell_type": "code",
      "source": [
        "train_df['label'] = train_df['label'].astype(int)\n",
        "\n",
        "print(train_df.label.value_counts())"
      ],
      "metadata": {
        "colab": {
          "base_uri": "https://localhost:8080/"
        },
        "id": "iFOGuhCOvjGT",
        "outputId": "91608d11-7a45-4c86-84bf-a42e0eed8ad6"
      },
      "execution_count": null,
      "outputs": [
        {
          "output_type": "stream",
          "name": "stdout",
          "text": [
            "label\n",
            "0    2974\n",
            "1    1026\n",
            "Name: count, dtype: int64\n"
          ]
        }
      ]
    },
    {
      "cell_type": "code",
      "source": [
        "train_df['input_text'] = train_df['text'].astype(str)\n",
        "test_df['input_text']  = test_df['text'].astype(str)"
      ],
      "metadata": {
        "id": "14kt2hYBwYZC"
      },
      "execution_count": null,
      "outputs": []
    },
    {
      "cell_type": "markdown",
      "source": [
        "**EDA** - **Exploratory Data Analysis**"
      ],
      "metadata": {
        "id": "sKPytg1ew6Z_"
      }
    },
    {
      "cell_type": "code",
      "source": [
        "import matplotlib.pyplot as plt\n",
        "import seaborn as sns\n",
        "\n",
        "print(\" Dataset Shape:\", train_df.shape)\n",
        "print(\"\\n Column Overview:\\n\", train_df.columns.tolist())\n"
      ],
      "metadata": {
        "colab": {
          "base_uri": "https://localhost:8080/"
        },
        "id": "v-OYWko8w7k9",
        "outputId": "722e5bed-b66a-4599-c08f-de5312070773"
      },
      "execution_count": null,
      "outputs": [
        {
          "output_type": "stream",
          "name": "stdout",
          "text": [
            " Dataset Shape: (4000, 11)\n",
            "\n",
            " Column Overview:\n",
            " ['text', 'parent_comment', 'article_title', 'article_url', 'platform', 'platform_id', 'composite_toxic', 'label', 'label_prob', 'label_votes', 'input_text']\n"
          ]
        }
      ]
    },
    {
      "cell_type": "code",
      "source": [
        "print(\"\\nDataset Info:\")\n",
        "train_df.info()\n",
        "\n",
        "print(\"\\n Missing Values:\")\n",
        "print(train_df.isna().sum().sort_values(ascending=False))"
      ],
      "metadata": {
        "colab": {
          "base_uri": "https://localhost:8080/"
        },
        "id": "pduGwHbGx5Gd",
        "outputId": "98cd82d9-2c38-460e-8b6c-ca0c5ad00242"
      },
      "execution_count": null,
      "outputs": [
        {
          "output_type": "stream",
          "name": "stdout",
          "text": [
            "\n",
            "Dataset Info:\n",
            "<class 'pandas.core.frame.DataFrame'>\n",
            "RangeIndex: 4000 entries, 0 to 3999\n",
            "Data columns (total 11 columns):\n",
            " #   Column           Non-Null Count  Dtype  \n",
            "---  ------           --------------  -----  \n",
            " 0   text             4000 non-null   object \n",
            " 1   parent_comment   1402 non-null   object \n",
            " 2   article_title    4000 non-null   object \n",
            " 3   article_url      4000 non-null   object \n",
            " 4   platform         4000 non-null   object \n",
            " 5   platform_id      4000 non-null   object \n",
            " 6   composite_toxic  4000 non-null   object \n",
            " 7   label            4000 non-null   int64  \n",
            " 8   label_prob       4000 non-null   float64\n",
            " 9   label_votes      4000 non-null   float64\n",
            " 10  input_text       4000 non-null   object \n",
            "dtypes: float64(2), int64(1), object(8)\n",
            "memory usage: 343.9+ KB\n",
            "\n",
            " Missing Values:\n",
            "parent_comment     2598\n",
            "text                  0\n",
            "article_title         0\n",
            "article_url           0\n",
            "platform              0\n",
            "platform_id           0\n",
            "composite_toxic       0\n",
            "label                 0\n",
            "label_prob            0\n",
            "label_votes           0\n",
            "input_text            0\n",
            "dtype: int64\n"
          ]
        }
      ]
    },
    {
      "cell_type": "code",
      "source": [
        "plt.figure(figsize=(5,4))\n",
        "sns.countplot(x='label', data=train_df, palette='Set2')\n",
        "plt.title(\"Label Distribution (0 = Non-Toxic, 1 = Toxic)\")\n",
        "plt.xlabel(\"Label\")\n",
        "plt.ylabel(\"Count\")\n",
        "plt.show()\n",
        "\n",
        "print(\"\\nLabel Value Counts:\")\n",
        "print(train_df['label'].value_counts(normalize=True).round(3) * 100)\n"
      ],
      "metadata": {
        "colab": {
          "base_uri": "https://localhost:8080/",
          "height": 601
        },
        "id": "r3gFt75Mx5DE",
        "outputId": "1398079c-9ba8-4559-918f-28803d1b6c05"
      },
      "execution_count": null,
      "outputs": [
        {
          "output_type": "stream",
          "name": "stderr",
          "text": [
            "/tmp/ipython-input-138214686.py:2: FutureWarning: \n",
            "\n",
            "Passing `palette` without assigning `hue` is deprecated and will be removed in v0.14.0. Assign the `x` variable to `hue` and set `legend=False` for the same effect.\n",
            "\n",
            "  sns.countplot(x='label', data=train_df, palette='Set2')\n"
          ]
        },
        {
          "output_type": "display_data",
          "data": {
            "text/plain": [
              "<Figure size 500x400 with 1 Axes>"
            ],
            "image/png": "[encoded data removed]"
          },
          "metadata": {}
        },
        {
          "output_type": "stream",
          "name": "stdout",
          "text": [
            "\n",
            "Label Value Counts:\n",
            "label\n",
            "0    74.4\n",
            "1    25.6\n",
            "Name: proportion, dtype: float64\n"
          ]
        }
      ]
    },
    {
      "cell_type": "code",
      "source": [
        "plt.figure(figsize=(6,4))\n",
        "sns.histplot(train_df['label_prob'], bins=20, kde=True, color='skyblue')\n",
        "plt.title(\"Distribution of Label Probability (Annotator Agreement)\")\n",
        "plt.xlabel(\"label_prob\")\n",
        "plt.show()\n"
      ],
      "metadata": {
        "colab": {
          "base_uri": "https://localhost:8080/",
          "height": 410
        },
        "id": "eTUIKYKsyGza",
        "outputId": "7895cbfc-c5b4-4608-a7a2-56049c3e2ed1"
      },
      "execution_count": null,
      "outputs": [
        {
          "output_type": "display_data",
          "data": {
            "text/plain": [
              "<Figure size 600x400 with 1 Axes>"
            ],
            "image/png": "[encoded data removed]"
          },
          "metadata": {}
        }
      ]
    },
    {
      "cell_type": "code",
      "source": [
        "print(\"\\n Descriptive Stats (label_prob):\")\n",
        "print(train_df['label_prob'].describe())"
      ],
      "metadata": {
        "colab": {
          "base_uri": "https://localhost:8080/"
        },
        "id": "KOzvIU5nyNfo",
        "outputId": "01522717-b7ea-4ef4-a4e2-58810e600dfa"
      },
      "execution_count": null,
      "outputs": [
        {
          "output_type": "stream",
          "name": "stdout",
          "text": [
            "\n",
            " Descriptive Stats (label_prob):\n",
            "count    4000.000000\n",
            "mean        0.285132\n",
            "std         0.314504\n",
            "min         0.000000\n",
            "25%         0.000000\n",
            "50%         0.200837\n",
            "75%         0.576380\n",
            "max         1.000000\n",
            "Name: label_prob, dtype: float64\n"
          ]
        }
      ]
    },
    {
      "cell_type": "code",
      "source": [
        "plt.figure(figsize=(4,3))\n",
        "sns.countplot(x='label_votes', data=train_df, palette='viridis')\n",
        "plt.title(\"Number of Annotators per Sample\")\n",
        "plt.show()"
      ],
      "metadata": {
        "colab": {
          "base_uri": "https://localhost:8080/",
          "height": 420
        },
        "id": "r48Zx3w9yNXV",
        "outputId": "a1c8312f-9253-430b-f8e8-e6939e08bfb8"
      },
      "execution_count": null,
      "outputs": [
        {
          "output_type": "stream",
          "name": "stderr",
          "text": [
            "/tmp/ipython-input-2317382544.py:2: FutureWarning: \n",
            "\n",
            "Passing `palette` without assigning `hue` is deprecated and will be removed in v0.14.0. Assign the `x` variable to `hue` and set `legend=False` for the same effect.\n",
            "\n",
            "  sns.countplot(x='label_votes', data=train_df, palette='viridis')\n"
          ]
        },
        {
          "output_type": "display_data",
          "data": {
            "text/plain": [
              "<Figure size 400x300 with 1 Axes>"
            ],
            "image/png": "[encoded data removed]"
          },
          "metadata": {}
        }
      ]
    },
    {
      "cell_type": "code",
      "source": [
        "train_df['text_len'] = train_df['text'].astype(str).apply(len)\n",
        "\n",
        "plt.figure(figsize=(6,4))\n",
        "sns.histplot(data=train_df, x='text_len', hue='label', bins=30, kde=True, element=\"step\")\n",
        "plt.title(\"Text Length Distribution by Label\")\n",
        "plt.xlabel(\"Text Length (characters)\")\n",
        "plt.show()\n",
        "\n",
        "print(\"\\n Average Text Length by Label:\")\n",
        "print(train_df.groupby('label')['text_len'].mean())"
      ],
      "metadata": {
        "colab": {
          "base_uri": "https://localhost:8080/",
          "height": 514
        },
        "id": "C9nSxURcyNT5",
        "outputId": "ef86c241-d7d6-439d-bba4-aaf856848ea1"
      },
      "execution_count": null,
      "outputs": [
        {
          "output_type": "display_data",
          "data": {
            "text/plain": [
              "<Figure size 600x400 with 1 Axes>"
            ],
            "image/png": "[encoded data removed]"
          },
          "metadata": {}
        },
        {
          "output_type": "stream",
          "name": "stdout",
          "text": [
            "\n",
            " Average Text Length by Label:\n",
            "label\n",
            "0    173.030935\n",
            "1    134.857700\n",
            "Name: text_len, dtype: float64\n"
          ]
        }
      ]
    },
    {
      "cell_type": "code",
      "source": [
        "plt.figure(figsize=(6,4))\n",
        "sns.countplot(y='platform', data=train_df, order=train_df['platform'].value_counts().index)\n",
        "plt.title(\"Platform Distribution\")\n",
        "plt.xlabel(\"Count\")\n",
        "plt.ylabel(\"Platform\")\n",
        "plt.show()\n",
        "\n",
        "toxicity_by_platform = (\n",
        "    train_df.groupby('platform')['label']\n",
        "    .mean()\n",
        "    .sort_values(ascending=False)\n",
        "    .rename('Toxic_Rate')\n",
        ")\n",
        "print(\"\\n Average Toxicity per Platform:\")\n",
        "print(toxicity_by_platform)\n"
      ],
      "metadata": {
        "colab": {
          "base_uri": "https://localhost:8080/",
          "height": 532
        },
        "id": "0P0hWOzgyXJM",
        "outputId": "115d899b-6ff9-46be-c248-5566ee20d7de"
      },
      "execution_count": null,
      "outputs": [
        {
          "output_type": "display_data",
          "data": {
            "text/plain": [
              "<Figure size 600x400 with 1 Axes>"
            ],
            "image/png": "[encoded data removed]"
          },
          "metadata": {}
        },
        {
          "output_type": "stream",
          "name": "stdout",
          "text": [
            "\n",
            " Average Toxicity per Platform:\n",
            "platform\n",
            "twitter    0.291510\n",
            "youtube    0.284958\n",
            "reddit     0.193908\n",
            "Name: Toxic_Rate, dtype: float64\n"
          ]
        }
      ]
    },
    {
      "cell_type": "code",
      "source": [
        "top_articles = train_df['article_title'].value_counts().head(10)\n",
        "print(\"\\n Top 10 Most Commented Articles:\")\n",
        "print(top_articles)"
      ],
      "metadata": {
        "colab": {
          "base_uri": "https://localhost:8080/"
        },
        "id": "w5jFrYWayW9e",
        "outputId": "cf1debf5-8708-404d-e4ce-44a7d5d0a066"
      },
      "execution_count": null,
      "outputs": [
        {
          "output_type": "stream",
          "name": "stdout",
          "text": [
            "\n",
            " Top 10 Most Commented Articles:\n",
            "article_title\n",
            "FBI agents raid condo unit owned by Russians at Trump Towers in Sunny Isles        6\n",
            "Carlson’s Text That Alarmed Fox Leaders: ‘It’s Not How White Men Fight’            6\n",
            "Russia issues arrest warrant for Lindsey Graham after Ukraine comments             4\n",
            "Penguin Random House sues Florida school district over book bans                   4\n",
            "York Catholic District School Board votes against flying the Pride flag in June    4\n",
            "Police: Woman who was kidnapped outside of Detroit hospital found dead in Novi     3\n",
            "House conservatives threaten push to oust McCarthy over debt deal                  3\n",
            "Trump is accused in court of rape. Will it matter in 2024?                         3\n",
            "Erdogan positioned to extend rule in Turkey runoff election                        3\n",
            "Nord Stream: Report puts Russian navy ships near pipeline blast site               3\n",
            "Name: count, dtype: int64\n"
          ]
        }
      ]
    },
    {
      "cell_type": "code",
      "source": [
        "dupes = train_df.duplicated(subset=['text']).sum()\n",
        "print(f\"\\n Duplicate texts: {dupes}\")\n",
        "\n",
        "empty_text = train_df['text'].astype(str).str.strip().eq(\"\").sum()\n",
        "print(f\" Empty text entries: {empty_text}\")\n"
      ],
      "metadata": {
        "colab": {
          "base_uri": "https://localhost:8080/"
        },
        "id": "8huo7xOkysJW",
        "outputId": "cddd6ee7-6b9a-4063-b344-8789f4ac3c45"
      },
      "execution_count": null,
      "outputs": [
        {
          "output_type": "stream",
          "name": "stdout",
          "text": [
            "\n",
            " Duplicate texts: 3\n",
            " Empty text entries: 0\n"
          ]
        }
      ]
    },
    {
      "cell_type": "markdown",
      "source": [
        "Splitting the Data"
      ],
      "metadata": {
        "id": "4wYvjWlDw8X_"
      }
    },
    {
      "cell_type": "code",
      "source": [
        "from sklearn.model_selection import train_test_split\n",
        "\n",
        "tr, val = train_test_split(\n",
        "    train_df,\n",
        "    test_size=0.12,\n",
        "    random_state=42,\n",
        "    stratify=train_df['label']\n",
        ")"
      ],
      "metadata": {
        "id": "REwOGwkbweCH"
      },
      "execution_count": null,
      "outputs": []
    },
    {
      "cell_type": "markdown",
      "source": [
        " -------------------------------\n",
        "# Baseline Model: TF-IDF + Logistic Regression\n",
        " -------------------------------\n"
      ],
      "metadata": {
        "id": "nFnQewGBxNe_"
      }
    },
    {
      "cell_type": "code",
      "source": [
        "import re\n",
        "import json\n",
        "\n",
        "from sklearn.model_selection import train_test_split, GridSearchCV, StratifiedKFold\n",
        "from sklearn.compose import ColumnTransformer\n",
        "from sklearn.feature_extraction.text import TfidfVectorizer\n",
        "from sklearn.linear_model import LogisticRegression\n",
        "from sklearn.pipeline import Pipeline\n",
        "from sklearn.metrics import classification_report, accuracy_score, f1_score, precision_recall_curve\n",
        "import joblib"
      ],
      "metadata": {
        "id": "TZd4yk4p25W5"
      },
      "execution_count": null,
      "outputs": []
    },
    {
      "cell_type": "code",
      "source": [
        "tr, val = train_test_split(\n",
        "    train_df,\n",
        "    test_size=0.12,\n",
        "    random_state=42,\n",
        "    stratify=train_df['label']\n",
        ")"
      ],
      "metadata": {
        "id": "KA_fFruD25Ta"
      },
      "execution_count": null,
      "outputs": []
    },
    {
      "cell_type": "code",
      "source": [
        "URL_RE   = re.compile(r'https?://\\S+|www\\.\\S+')\n",
        "USER_RE  = re.compile(r'@\\w+')\n",
        "NUM_RE   = re.compile(r'\\d+')\n",
        "WS_RE    = re.compile(r'\\s+')\n",
        "PUNC_RE  = re.compile(r'[^\\w\\s]')\n",
        "\n",
        "def clean_text(x: str) -> str:\n",
        "    if x is None:\n",
        "        return \"\"\n",
        "    s = str(x)\n",
        "    s = URL_RE.sub(\" URL \", s)\n",
        "    s = USER_RE.sub(\" USER \", s)\n",
        "    s = NUM_RE.sub(\" NUM \", s)\n",
        "    s = PUNC_RE.sub(\" \", s)\n",
        "    s = WS_RE.sub(\" \", s).strip()\n",
        "    return s"
      ],
      "metadata": {
        "id": "Vw103Nch25Q1"
      },
      "execution_count": null,
      "outputs": []
    },
    {
      "cell_type": "code",
      "source": [
        "features = ColumnTransformer(\n",
        "    transformers=[\n",
        "        (\"w\", TfidfVectorizer(\n",
        "            analyzer=\"word\",\n",
        "            ngram_range=(1, 2),\n",
        "            max_features=25000,\n",
        "            min_df=2,\n",
        "            max_df=0.9,\n",
        "            stop_words=\"english\",\n",
        "            strip_accents=\"unicode\",\n",
        "            sublinear_tf=True,\n",
        "            preprocessor=clean_text,\n",
        "            lowercase=True\n",
        "        ), \"input_text\"),\n",
        "        (\"c\", TfidfVectorizer(\n",
        "            analyzer=\"char_wb\",\n",
        "            ngram_range=(3, 5),\n",
        "            min_df=2,\n",
        "            sublinear_tf=True,\n",
        "            preprocessor=clean_text,\n",
        "            lowercase=True\n",
        "        ), \"input_text\"),\n",
        "    ],\n",
        "    remainder=\"drop\"\n",
        ")\n",
        "\n",
        "clf = LogisticRegression(\n",
        "    solver=\"saga\",\n",
        "    penalty=\"elasticnet\",\n",
        "    max_iter=3000,\n",
        "    class_weight=\"balanced\",\n",
        "    n_jobs=-1,\n",
        "    random_state=42\n",
        ")\n",
        "\n",
        "pipe = Pipeline([\n",
        "    (\"feat\", features),\n",
        "    (\"clf\", clf),\n",
        "])\n",
        "\n",
        "param_grid = {\n",
        "    \"clf__C\": [0.25, 0.5, 1.0, 2.0],\n",
        "    \"clf__l1_ratio\": [0.0, 0.25, 0.5, 0.75],  # 0=L2 … 1=L1\n",
        "}\n",
        "\n",
        "cv = StratifiedKFold(n_splits=5, shuffle=True, random_state=42)\n",
        "\n",
        "grid = GridSearchCV(\n",
        "    pipe,\n",
        "    param_grid=param_grid,\n",
        "    scoring=\"f1_macro\",\n",
        "    cv=cv,\n",
        "    n_jobs=-1,\n",
        "    verbose=1\n",
        ")\n"
      ],
      "metadata": {
        "id": "G-G3SP6025Np"
      },
      "execution_count": null,
      "outputs": []
    },
    {
      "cell_type": "code",
      "source": [
        "# ---------- Train ----------\n",
        "grid.fit(tr[[\"input_text\"]], tr[\"label\"])\n",
        "best_pipe = grid.best_estimator_\n",
        "print(\"Best params:\", grid.best_params_)\n",
        "print(\"Best CV f1_macro:\", grid.best_score_)"
      ],
      "metadata": {
        "colab": {
          "base_uri": "https://localhost:8080/"
        },
        "id": "P57w8ZSV25Ka",
        "outputId": "b0b9ac4b-7c12-4b8e-907d-daa061634a32"
      },
      "execution_count": null,
      "outputs": [
        {
          "output_type": "stream",
          "name": "stdout",
          "text": [
            "Fitting 5 folds for each of 16 candidates, totalling 80 fits\n",
            "Best params: {'clf__C': 1.0, 'clf__l1_ratio': 0.25}\n",
            "Best CV f1_macro: 0.675486038622546\n"
          ]
        }
      ]
    },
    {
      "cell_type": "code",
      "source": [
        "# ---------- Threshold tuning on val ----------\n",
        "val_probs = best_pipe.predict_proba(val[[\"input_text\"]])[:, 1]\n",
        "prec, rec, thresh = precision_recall_curve(val[\"label\"], val_probs)\n",
        "f1s = 2 * (prec * rec) / np.clip(prec + rec, 1e-12, None)\n",
        "best_idx = int(np.nanargmax(f1s))\n",
        "best_thresh = 0.5 if best_idx >= len(thresh) else float(thresh[best_idx])\n",
        "print(f\"Chosen threshold for F1: {best_thresh:.4f}\")"
      ],
      "metadata": {
        "colab": {
          "base_uri": "https://localhost:8080/"
        },
        "id": "82q39T5w25Hz",
        "outputId": "8ef38399-6976-499f-9390-05d8f0c6e279"
      },
      "execution_count": null,
      "outputs": [
        {
          "output_type": "stream",
          "name": "stdout",
          "text": [
            "Chosen threshold for F1: 0.5174\n"
          ]
        }
      ]
    },
    {
      "cell_type": "code",
      "source": [
        "val_preds = (val_probs >= best_thresh).astype(int)\n",
        "print(\"\\n=== Robust TF-IDF (word+char) + ElasticNet LR ===\")\n",
        "print(\"Accuracy:\", accuracy_score(val[\"label\"], val_preds))\n",
        "print(\"F1 (macro):\", f1_score(val[\"label\"], val_preds, average=\"macro\"))\n",
        "print(classification_report(val[\"label\"], val_preds, digits=4))"
      ],
      "metadata": {
        "colab": {
          "base_uri": "https://localhost:8080/"
        },
        "id": "M28KGeUe3OpQ",
        "outputId": "69eb0642-ce70-4ed3-c8a1-aa6977e5641f"
      },
      "execution_count": null,
      "outputs": [
        {
          "output_type": "stream",
          "name": "stdout",
          "text": [
            "\n",
            "=== Robust TF-IDF (word+char) + ElasticNet LR ===\n",
            "Accuracy: 0.7916666666666666\n",
            "F1 (macro): 0.7309658326607479\n",
            "              precision    recall  f1-score   support\n",
            "\n",
            "           0     0.8661    0.8515    0.8588       357\n",
            "           1     0.5891    0.6179    0.6032       123\n",
            "\n",
            "    accuracy                         0.7917       480\n",
            "   macro avg     0.7276    0.7347    0.7310       480\n",
            "weighted avg     0.7951    0.7917    0.7933       480\n",
            "\n"
          ]
        }
      ]
    },
    {
      "cell_type": "code",
      "source": [
        "joblib.dump(best_pipe, \"tfidf_lr_robust.joblib\")\n",
        "with open(\"tfidf_lr_robust.threshold.json\", \"w\") as f:\n",
        "    json.dump({\"threshold\": best_thresh}, f)\n",
        "print(\"Saved tfidf_lr_robust.joblib and tfidf_lr_robust.threshold.json\")"
      ],
      "metadata": {
        "colab": {
          "base_uri": "https://localhost:8080/"
        },
        "id": "zogsf77U3Od4",
        "outputId": "6ce49c5e-0508-4063-ef79-623ec0b435bb"
      },
      "execution_count": null,
      "outputs": [
        {
          "output_type": "stream",
          "name": "stdout",
          "text": [
            "Saved tfidf_lr_robust.joblib and tfidf_lr_robust.threshold.json\n"
          ]
        }
      ]
    },
    {
      "cell_type": "markdown",
      "source": [
        "### ML Inference on Test Data"
      ],
      "metadata": {
        "id": "uOuFoVRvNsti"
      }
    },
    {
      "cell_type": "code",
      "source": [
        "pipe = joblib.load(\"tfidf_lr_robust.joblib\")\n",
        "try:\n",
        "    with open(\"tfidf_lr_robust.threshold.json\", \"r\") as f:\n",
        "        BEST_THRESH = float(json.load(f)[\"threshold\"])\n",
        "except Exception:\n",
        "    BEST_THRESH = 0.5\n",
        "    print(\"Using default threshold 0.5 (threshold file not found).\")\n",
        "\n",
        "\n",
        "assert 'platform_id' in test_df.columns, \"test_df must contain 'platform_id'.\"\n",
        "assert 'input_text' in test_df.columns, \"test_df must contain 'input_text'.\"\n",
        "\n",
        "try:\n",
        "    probs = pipe.predict_proba(test_df[['input_text']])[:, 1]\n",
        "except Exception:\n",
        "    probs = pipe.predict_proba(test_df['input_text'])[:, 1]\n",
        "\n",
        "pred_int = (probs >= BEST_THRESH).astype(int)\n",
        "pred_str = np.where(pred_int == 1, \"true\", \"false\")\n",
        "\n",
        "submission = pd.DataFrame({\n",
        "    \"platform_id\": test_df[\"platform_id\"].astype(str),\n",
        "    \"prediction\":  pred_str\n",
        "})\n",
        "submission.to_csv(\"submission_lr.csv\", index=False)\n",
        "print(\"Saved submission_lr.csv (columns: platform_id, prediction)\")\n",
        "print(submission.head())\n"
      ],
      "metadata": {
        "colab": {
          "base_uri": "https://localhost:8080/"
        },
        "id": "M9aW5mN_3Oaj",
        "outputId": "77d84162-2b2b-4ff7-fb73-307ffac781f8"
      },
      "execution_count": null,
      "outputs": [
        {
          "output_type": "stream",
          "name": "stdout",
          "text": [
            "Saved submission_lr.csv (columns: platform_id, prediction)\n",
            "                                         platform_id prediction\n",
            "0  UgxjV6HRpnD6FUmw8aV4AaABAg.9pH-CgX5yEH9pH7BMIfAz5      false\n",
            "1                                1657052099564150784       true\n",
            "2                                1662672469205958656      false\n",
            "3                                1656508255454019587      false\n",
            "4                                            jk1pm1m      false\n"
          ]
        }
      ]
    },
    {
      "cell_type": "markdown",
      "source": [
        "-----------------\n",
        "# BERT\n",
        "------------------"
      ],
      "metadata": {
        "id": "Lp0t7sCA763w"
      }
    },
    {
      "cell_type": "code",
      "source": [
        "!pip install -q transformers datasets evaluate accelerate"
      ],
      "metadata": {
        "id": "tePCa_LD82bK"
      },
      "execution_count": null,
      "outputs": []
    },
    {
      "cell_type": "code",
      "source": [
        "import torch\n",
        "from sklearn.model_selection import train_test_split\n",
        "from datasets import Dataset, DatasetDict\n",
        "from transformers import (AutoTokenizer, AutoModelForSequenceClassification,\n",
        "                          TrainingArguments, Trainer, DataCollatorWithPadding)\n",
        "import evaluate\n",
        "from sklearn.metrics import classification_report"
      ],
      "metadata": {
        "id": "ETsSeJe682T1"
      },
      "execution_count": null,
      "outputs": []
    },
    {
      "cell_type": "code",
      "source": [
        "MODEL   = \"bert-base-uncased\"\n",
        "MAX_LEN = 192\n",
        "BATCH   = 8\n",
        "EPOCHS  = 4\n",
        "LR      = 2e-5\n",
        "SEED    = 42\n",
        "\n",
        "rng = np.random.RandomState(SEED)\n",
        "torch.manual_seed(SEED)"
      ],
      "metadata": {
        "colab": {
          "base_uri": "https://localhost:8080/"
        },
        "id": "kCRbolx382QW",
        "outputId": "f8695157-5d8f-4b49-9483-c7afa6c42250"
      },
      "execution_count": null,
      "outputs": [
        {
          "output_type": "execute_result",
          "data": {
            "text/plain": [
              "<torch._C.Generator at 0x7a530e768bd0>"
            ]
          },
          "metadata": {},
          "execution_count": 125
        }
      ]
    },
    {
      "cell_type": "code",
      "source": [
        "tr, val = train_test_split(\n",
        "    train_df[['input_text','label']].dropna(),\n",
        "    test_size=0.12, random_state=SEED, stratify=train_df['label']\n",
        ")\n"
      ],
      "metadata": {
        "id": "lqvm2NiH82Nk"
      },
      "execution_count": null,
      "outputs": []
    },
    {
      "cell_type": "code",
      "source": [
        "# ===== HuggingFace Datasets =====\n",
        "hf_train = Dataset.from_pandas(tr.reset_index(drop=True))\n",
        "hf_val   = Dataset.from_pandas(val.reset_index(drop=True))\n",
        "dsets    = DatasetDict({\"train\": hf_train, \"validation\": hf_val})"
      ],
      "metadata": {
        "id": "vJ_PKoQl82FG"
      },
      "execution_count": null,
      "outputs": []
    },
    {
      "cell_type": "code",
      "source": [
        "tokenizer = AutoTokenizer.from_pretrained(MODEL, use_fast=True)\n",
        "\n",
        "def tok_fn(batch):\n",
        "    return tokenizer(batch['input_text'], truncation=True, max_length=MAX_LEN)\n",
        "\n",
        "dsets = dsets.map(tok_fn, batched=True, remove_columns=['input_text'])\n",
        "dsets = dsets.rename_column(\"label\", \"labels\")\n",
        "dsets.set_format(type='torch')"
      ],
      "metadata": {
        "colab": {
          "base_uri": "https://localhost:8080/",
          "height": 81,
          "referenced_widgets": [
            "941c5c175d484982b93634fa2cf6343c",
            "6523fe6eaa174468a5aa2812980013a8",
            "d1ad97f622184a19a855e6ebb64ec367",
            "76aa4433833044fc845ed68a8e622e3e",
            "b502e987a637419187871d892ebf2327",
            "0b09f55b6287469a844b25ef7ad3498c",
            "6b176ff5ad27472ba2c2d416132003a4",
            "0859dd761d7c4e258ac165e5a026740c",
            "31d5af2656e04064b7428eb15fb87a1d",
            "7602cac0db7d4e4b92e6b8fcc738c383",
            "123b2489951242c5b96b2edb4b2709c4",
            "71ccf4a28f144d70b81f659689ce63a1",
            "68ed45072722434eaeb05e6810a4c5d8",
            "4eb37c9e823e4e61b93e26e8306ab20a",
            "a2a1de1d1e9f45489f265dacf143c4bd",
            "2989dbd7f90a498c8da704bba18700c6",
            "4ea491cb14244c6f9f4bbf56c97162be",
            "3ab22551d3bc4a2d9b49118b158ee38b",
            "cb4515b588d54abeb56e564a3b63b4ea",
            "684536afd4684c3f91807fd31951dfae",
            "066d7cf4caa34145a70b6f76f37f632e",
            "f4536608cb6c46ad9ff73ae155ad5b95"
          ]
        },
        "id": "G-b2AUqH92Ne",
        "outputId": "14d7b766-0582-498d-ce83-6dc0b9d6b508"
      },
      "execution_count": null,
      "outputs": [
        {
          "output_type": "display_data",
          "data": {
            "text/plain": [
              "Map:   0%|          | 0/3520 [00:00<?, ? examples/s]"
            ],
            "application/vnd.jupyter.widget-view+json": {
              "version_major": 2,
              "version_minor": 0,
              "model_id": "941c5c175d484982b93634fa2cf6343c"
            }
          },
          "metadata": {}
        },
        {
          "output_type": "display_data",
          "data": {
            "text/plain": [
              "Map:   0%|          | 0/480 [00:00<?, ? examples/s]"
            ],
            "application/vnd.jupyter.widget-view+json": {
              "version_major": 2,
              "version_minor": 0,
              "model_id": "71ccf4a28f144d70b81f659689ce63a1"
            }
          },
          "metadata": {}
        }
      ]
    },
    {
      "cell_type": "code",
      "source": [
        "# ===== Model =====\n",
        "model = AutoModelForSequenceClassification.from_pretrained(MODEL, num_labels=2)"
      ],
      "metadata": {
        "colab": {
          "base_uri": "https://localhost:8080/"
        },
        "id": "oKWDKrLu92Ak",
        "outputId": "68fd20fa-974b-46ab-c5b5-5c842eb05668"
      },
      "execution_count": null,
      "outputs": [
        {
          "output_type": "stream",
          "name": "stderr",
          "text": [
            "Some weights of BertForSequenceClassification were not initialized from the model checkpoint at bert-base-uncased and are newly initialized: ['classifier.bias', 'classifier.weight']\n",
            "You should probably TRAIN this model on a down-stream task to be able to use it for predictions and inference.\n"
          ]
        }
      ]
    },
    {
      "cell_type": "code",
      "source": [
        "# ===== Metrics =====\n",
        "metric_acc = evaluate.load(\"accuracy\")\n",
        "metric_f1  = evaluate.load(\"f1\")"
      ],
      "metadata": {
        "id": "egoo3WJM-W0I"
      },
      "execution_count": null,
      "outputs": []
    },
    {
      "cell_type": "code",
      "source": [
        "def compute_metrics(p):\n",
        "    preds = np.argmax(p.predictions, axis=1)\n",
        "    return {\n",
        "        \"accuracy\": metric_acc.compute(predictions=preds, references=p.label_ids)[\"accuracy\"],\n",
        "        \"f1_macro\": metric_f1.compute(predictions=preds, references=p.label_ids, average=\"macro\")[\"f1\"]\n",
        "    }"
      ],
      "metadata": {
        "id": "MUDMAMe_-Wwm"
      },
      "execution_count": null,
      "outputs": []
    },
    {
      "cell_type": "code",
      "source": [
        "training_args = TrainingArguments(\n",
        "    output_dir=\"bert_base_toxic_ckpt\",\n",
        "    learning_rate=LR,\n",
        "    per_device_train_batch_size=BATCH,\n",
        "    per_device_eval_batch_size=BATCH*2,\n",
        "    num_train_epochs=EPOCHS,\n",
        "    weight_decay=0.01,\n",
        "    logging_steps=50,\n",
        "    seed=SEED,\n",
        "    report_to=[]\n",
        ")"
      ],
      "metadata": {
        "id": "UNKOzvEI-WuJ"
      },
      "execution_count": null,
      "outputs": []
    },
    {
      "cell_type": "code",
      "source": [
        "data_collator = DataCollatorWithPadding(tokenizer=tokenizer)"
      ],
      "metadata": {
        "id": "U6eYqyH7-Wqq"
      },
      "execution_count": null,
      "outputs": []
    },
    {
      "cell_type": "code",
      "source": [
        "trainer = Trainer(\n",
        "    model=model,\n",
        "    args=training_args,\n",
        "    train_dataset=dsets[\"train\"],\n",
        "    eval_dataset=dsets[\"validation\"],\n",
        "    tokenizer=tokenizer,\n",
        "    data_collator=data_collator,\n",
        "    compute_metrics=compute_metrics,\n",
        ")"
      ],
      "metadata": {
        "colab": {
          "base_uri": "https://localhost:8080/"
        },
        "id": "sT-xWeDIDE3E",
        "outputId": "17082858-e4b2-468f-facf-21f3451cde63"
      },
      "execution_count": null,
      "outputs": [
        {
          "output_type": "stream",
          "name": "stderr",
          "text": [
            "/tmp/ipython-input-1372441731.py:2: FutureWarning: `tokenizer` is deprecated and will be removed in version 5.0.0 for `Trainer.__init__`. Use `processing_class` instead.\n",
            "  trainer = Trainer(\n"
          ]
        }
      ]
    },
    {
      "cell_type": "code",
      "source": [
        "# ===== Train =====\n",
        "trainer.train()"
      ],
      "metadata": {
        "colab": {
          "base_uri": "https://localhost:8080/",
          "height": 1000
        },
        "id": "-ZHOdFyZDEzu",
        "outputId": "96e238d0-5d78-4e6e-dd7d-ca5f7686bad9"
      },
      "execution_count": null,
      "outputs": [
        {
          "output_type": "display_data",
          "data": {
            "text/plain": [
              "<IPython.core.display.HTML object>"
            ],
            "text/html": [
              "\n",
              "    <div>\n",
              "      \n",
              "      <progress value='1760' max='1760' style='width:300px; height:20px; vertical-align: middle;'></progress>\n",
              "      [1760/1760 07:40, Epoch 4/4]\n",
              "    </div>\n",
              "    <table border=\"1\" class=\"dataframe\">\n",
              "  <thead>\n",
              " <tr style=\"text-align: left;\">\n",
              "      <th>Step</th>\n",
              "      <th>Training Loss</th>\n",
              "    </tr>\n",
              "  </thead>\n",
              "  <tbody>\n",
              "    <tr>\n",
              "      <td>50</td>\n",
              "      <td>0.578700</td>\n",
              "    </tr>\n",
              "    <tr>\n",
              "      <td>100</td>\n",
              "      <td>0.576000</td>\n",
              "    </tr>\n",
              "    <tr>\n",
              "      <td>150</td>\n",
              "      <td>0.445500</td>\n",
              "    </tr>\n",
              "    <tr>\n",
              "      <td>200</td>\n",
              "      <td>0.492700</td>\n",
              "    </tr>\n",
              "    <tr>\n",
              "      <td>250</td>\n",
              "      <td>0.435600</td>\n",
              "    </tr>\n",
              "    <tr>\n",
              "      <td>300</td>\n",
              "      <td>0.472600</td>\n",
              "    </tr>\n",
              "    <tr>\n",
              "      <td>350</td>\n",
              "      <td>0.510300</td>\n",
              "    </tr>\n",
              "    <tr>\n",
              "      <td>400</td>\n",
              "      <td>0.469400</td>\n",
              "    </tr>\n",
              "    <tr>\n",
              "      <td>450</td>\n",
              "      <td>0.405500</td>\n",
              "    </tr>\n",
              "    <tr>\n",
              "      <td>500</td>\n",
              "      <td>0.337200</td>\n",
              "    </tr>\n",
              "    <tr>\n",
              "      <td>550</td>\n",
              "      <td>0.306600</td>\n",
              "    </tr>\n",
              "    <tr>\n",
              "      <td>600</td>\n",
              "      <td>0.372100</td>\n",
              "    </tr>\n",
              "    <tr>\n",
              "      <td>650</td>\n",
              "      <td>0.332000</td>\n",
              "    </tr>\n",
              "    <tr>\n",
              "      <td>700</td>\n",
              "      <td>0.325100</td>\n",
              "    </tr>\n",
              "    <tr>\n",
              "      <td>750</td>\n",
              "      <td>0.350500</td>\n",
              "    </tr>\n",
              "    <tr>\n",
              "      <td>800</td>\n",
              "      <td>0.294000</td>\n",
              "    </tr>\n",
              "    <tr>\n",
              "      <td>850</td>\n",
              "      <td>0.334300</td>\n",
              "    </tr>\n",
              "    <tr>\n",
              "      <td>900</td>\n",
              "      <td>0.297800</td>\n",
              "    </tr>\n",
              "    <tr>\n",
              "      <td>950</td>\n",
              "      <td>0.118400</td>\n",
              "    </tr>\n",
              "    <tr>\n",
              "      <td>1000</td>\n",
              "      <td>0.237800</td>\n",
              "    </tr>\n",
              "    <tr>\n",
              "      <td>1050</td>\n",
              "      <td>0.233100</td>\n",
              "    </tr>\n",
              "    <tr>\n",
              "      <td>1100</td>\n",
              "      <td>0.179300</td>\n",
              "    </tr>\n",
              "    <tr>\n",
              "      <td>1150</td>\n",
              "      <td>0.155300</td>\n",
              "    </tr>\n",
              "    <tr>\n",
              "      <td>1200</td>\n",
              "      <td>0.130100</td>\n",
              "    </tr>\n",
              "    <tr>\n",
              "      <td>1250</td>\n",
              "      <td>0.214800</td>\n",
              "    </tr>\n",
              "    <tr>\n",
              "      <td>1300</td>\n",
              "      <td>0.127800</td>\n",
              "    </tr>\n",
              "    <tr>\n",
              "      <td>1350</td>\n",
              "      <td>0.136300</td>\n",
              "    </tr>\n",
              "    <tr>\n",
              "      <td>1400</td>\n",
              "      <td>0.099700</td>\n",
              "    </tr>\n",
              "    <tr>\n",
              "      <td>1450</td>\n",
              "      <td>0.057000</td>\n",
              "    </tr>\n",
              "    <tr>\n",
              "      <td>1500</td>\n",
              "      <td>0.101300</td>\n",
              "    </tr>\n",
              "    <tr>\n",
              "      <td>1550</td>\n",
              "      <td>0.093600</td>\n",
              "    </tr>\n",
              "    <tr>\n",
              "      <td>1600</td>\n",
              "      <td>0.035400</td>\n",
              "    </tr>\n",
              "    <tr>\n",
              "      <td>1650</td>\n",
              "      <td>0.104900</td>\n",
              "    </tr>\n",
              "    <tr>\n",
              "      <td>1700</td>\n",
              "      <td>0.122000</td>\n",
              "    </tr>\n",
              "    <tr>\n",
              "      <td>1750</td>\n",
              "      <td>0.117600</td>\n",
              "    </tr>\n",
              "  </tbody>\n",
              "</table><p>"
            ]
          },
          "metadata": {}
        },
        {
          "output_type": "execute_result",
          "data": {
            "text/plain": [
              "TrainOutput(global_step=1760, training_loss=0.27278139794414696, metrics={'train_runtime': 460.3617, 'train_samples_per_second': 30.585, 'train_steps_per_second': 3.823, 'total_flos': 683776299557760.0, 'train_loss': 0.27278139794414696, 'epoch': 4.0})"
            ]
          },
          "metadata": {},
          "execution_count": 135
        }
      ]
    },
    {
      "cell_type": "code",
      "source": [
        "# ===== Evaluate (valid set) =====\n",
        "preds_out = trainer.predict(dsets[\"validation\"])\n",
        "preds = np.argmax(preds_out.predictions, axis=1)\n",
        "print(\"Val metrics:\", compute_metrics(preds_out))\n",
        "print(classification_report(dsets[\"validation\"][\"labels\"], preds, digits=4))"
      ],
      "metadata": {
        "colab": {
          "base_uri": "https://localhost:8080/",
          "height": 191
        },
        "id": "lKWAIGFTDEw-",
        "outputId": "f400d88d-ae39-4260-b492-a6eef1e0c8c5"
      },
      "execution_count": null,
      "outputs": [
        {
          "output_type": "display_data",
          "data": {
            "text/plain": [
              "<IPython.core.display.HTML object>"
            ],
            "text/html": []
          },
          "metadata": {}
        },
        {
          "output_type": "stream",
          "name": "stdout",
          "text": [
            "Val metrics: {'accuracy': 0.8041666666666667, 'f1_macro': 0.7328533535430087}\n",
            "              precision    recall  f1-score   support\n",
            "\n",
            "           0     0.8544    0.8880    0.8709       357\n",
            "           1     0.6330    0.5610    0.5948       123\n",
            "\n",
            "    accuracy                         0.8042       480\n",
            "   macro avg     0.7437    0.7245    0.7329       480\n",
            "weighted avg     0.7977    0.8042    0.8001       480\n",
            "\n"
          ]
        }
      ]
    },
    {
      "cell_type": "code",
      "source": [
        "# ===== Save model + tokenizer =====\n",
        "trainer.save_model(\"bert_toxic_modelV2\")\n",
        "tokenizer.save_pretrained(\"bert_toxic_modelV2\")\n",
        "print(\"✅ Saved base BERT to ./bert_toxic_model\")"
      ],
      "metadata": {
        "colab": {
          "base_uri": "https://localhost:8080/"
        },
        "id": "j-H04nDl-WoL",
        "outputId": "d77faf27-9f85-4b0d-c04a-be26515089f4"
      },
      "execution_count": null,
      "outputs": [
        {
          "output_type": "stream",
          "name": "stdout",
          "text": [
            "✅ Saved base BERT to ./bert_toxic_model\n"
          ]
        }
      ]
    },
    {
      "cell_type": "markdown",
      "source": [
        "### BERT inference on Test data"
      ],
      "metadata": {
        "id": "avbk69MtGlvT"
      }
    },
    {
      "cell_type": "code",
      "source": [
        "try :\n",
        "    val_logits = preds_out.predictions\n",
        "    val_probs  = torch.softmax(torch.tensor(val_logits), dim=1).numpy()[:, 1]\n",
        "    y_val      = preds_out.label_ids\n",
        "\n",
        "    prec, rec, thr = precision_recall_curve(y_val, val_probs)\n",
        "    f1s = 2 * (prec * rec) / (prec + rec + 1e-12)\n",
        "    best_idx = int(np.nanargmax(f1s))\n",
        "    BEST_THRESH = 0.5 if best_idx >= len(thr) else float(thr[best_idx])\n",
        "except Exception:\n",
        "    BEST_THRESH = 0.5\n",
        "\n",
        "print(f\"Using threshold: {BEST_THRESH:.4f}\")\n",
        "\n",
        "device = \"cuda\" if torch.cuda.is_available() else \"cpu\"\n",
        "tok  = AutoTokenizer.from_pretrained(\"bert_toxic_model\", use_fast=True)\n",
        "bert = AutoModelForSequenceClassification.from_pretrained(\"bert_toxic_model\").to(device).eval()\n",
        "\n",
        "def batched(it, n=128):\n",
        "    for i in range(0, len(it), n):\n",
        "        yield it[i:i+n]\n",
        "\n",
        "assert 'platform_id' in test_df.columns, \"test_df must have a 'platform_id' column.\"\n",
        "texts = test_df['input_text'].fillna(\"\").astype(str).tolist()\n",
        "\n",
        "all_probs = []\n",
        "with torch.no_grad():\n",
        "    for batch in batched(texts, 128):\n",
        "        enc = tok(batch, truncation=True, max_length=128, padding=True, return_tensors=\"pt\")\n",
        "        enc = {k: v.to(device) for k, v in enc.items()}\n",
        "        logits = bert(**enc).logits\n",
        "        p = torch.softmax(logits, dim=1)[:, 1].detach().cpu().numpy()\n",
        "        all_probs.append(p)\n",
        "\n",
        "test_probs = np.concatenate(all_probs, axis=0)\n",
        "test_pred_int = (test_probs >= BEST_THRESH).astype(int)\n",
        "test_pred_str = np.where(test_pred_int == 1, \"true\", \"false\")\n",
        "\n",
        "# Build and save the submission\n",
        "submission = pd.DataFrame({\n",
        "    \"platform_id\": test_df[\"platform_id\"].astype(str),\n",
        "    \"prediction\":  test_pred_str\n",
        "})\n",
        "submission.to_csv(\"submission_V2.csv\", index=False)\n",
        "print(submission.head())\n"
      ],
      "metadata": {
        "colab": {
          "base_uri": "https://localhost:8080/"
        },
        "id": "BfwayqsbDNkd",
        "outputId": "9cdc6bc2-3c3f-4ac0-a118-30f92ec4e043"
      },
      "execution_count": null,
      "outputs": [
        {
          "output_type": "stream",
          "name": "stdout",
          "text": [
            "Using threshold: 0.0056\n",
            "                                         platform_id prediction\n",
            "0  UgxjV6HRpnD6FUmw8aV4AaABAg.9pH-CgX5yEH9pH7BMIfAz5       true\n",
            "1                                1657052099564150784       true\n",
            "2                                1662672469205958656       true\n",
            "3                                1656508255454019587      false\n",
            "4                                            jk1pm1m      false\n"
          ]
        }
      ]
    },
    {
      "cell_type": "markdown",
      "source": [
        "-------------"
      ],
      "metadata": {
        "id": "LXtywManMOqB"
      }
    }
  ]
}